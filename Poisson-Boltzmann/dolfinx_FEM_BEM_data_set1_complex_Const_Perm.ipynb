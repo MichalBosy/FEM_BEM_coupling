{
 "cells": [
  {
   "cell_type": "markdown",
   "metadata": {},
   "source": [
    "# FEM-BEM coupling of Poisson-Boltzmann"
   ]
  },
  {
   "cell_type": "code",
   "execution_count": 1,
   "metadata": {},
   "outputs": [],
   "source": [
    "import numpy as np\n",
    "from mpi4py import MPI\n",
    "from dolfinx.fem import FunctionSpace\n",
    "from dolfinx.mesh import create_unit_square, create_unit_cube\n",
    "from dolfinx.geometry import (compute_colliding_cells,\n",
    "                              compute_collisions_points)\n",
    "\n",
    "def get_local_coordinates(vertices, point):\n",
    "    \"\"\"Get the local coordinates of the point in the cell.\"\"\"\n",
    "    origin = vertices[0]\n",
    "    axes = [v - origin for v in vertices[1:]]\n",
    "    tdim = 3\n",
    "    if len(axes) == 2:\n",
    "        axes.append(np.cross(axes[0], axes[1]))\n",
    "        tdim = 2\n",
    "\n",
    "    assert len(axes) == 3\n",
    "\n",
    "\n",
    "    return np.linalg.solve(np.array(axes).T, point - origin)[:tdim]\n",
    "\n",
    "\n",
    "def assemble_point_sources(space, points, weights):\n",
    "    vector = np.zeros(space.dofmap.index_map.size_global)\n",
    "\n",
    "    mesh = space.mesh\n",
    "    for point, weight in zip(points, weights):\n",
    "        # Get cell\n",
    "        tree = dolfinx.geometry.bb_tree(mesh, mesh.geometry.dim)\n",
    "        cell_candidates = compute_collisions_points(tree, point)\n",
    "        # This gets the first cell. Would it be better to put a fraction of the delta function into each cell instead?\n",
    "        cell = compute_colliding_cells(mesh, cell_candidates, point)[0]\n",
    "\n",
    "        # Get local coordinates\n",
    "        # Note: this currently only works for affine triangles and tetrahedra\n",
    "        v = [mesh.geometry.x[i] for i in mesh.geometry.dofmap[cell]]\n",
    "        local_coordinates = get_local_coordinates(v, point)\n",
    "\n",
    "        # Note: this currently only works for scalar-valued elements that use an identity push forward map\n",
    "        values = space.element.basix_element.tabulate(0, [local_coordinates])[0, 0, :, 0]\n",
    "        dofs = space.dofmap.cell_dofs(cell)\n",
    "\n",
    "        for d, v in zip(dofs, values):\n",
    "            vector[d] += v * weight\n",
    "\n",
    "    return vector\n",
    "\n",
    "\n",
    "def test_point_sources_triangle():\n",
    "    points = np.array([(1/4, 1/6, 0), (1/10, 6/10, 0)])\n",
    "\n",
    "    mesh = create_unit_square(MPI.COMM_WORLD, 2, 2)\n",
    "    space = FunctionSpace(mesh, (\"Lagrange\", 1))\n",
    "\n",
    "    vector = assemble_point_sources(space, points, [1, 1])\n",
    "\n",
    "    a = [i for i in vector]\n",
    "    a.sort()\n",
    "    assert np.isclose(a[-1], 4/5)\n",
    "    assert np.isclose(a[-2], 1/2)\n",
    "    assert np.isclose(a[-3], 1/3)\n",
    "    assert np.isclose(a[-4], 1/5)\n",
    "    assert np.isclose(a[-5], 1/6)\n",
    "    assert np.isclose(a[-6], 0)\n",
    "    assert np.isclose(a[0], 0)\n",
    "\n",
    "    vector = assemble_point_sources(space, points, [2, 1])\n",
    "\n",
    "    a = [i for i in vector]\n",
    "    a.sort()\n",
    "    assert np.isclose(a[-1], 1)\n",
    "    assert np.isclose(a[-2], 4/5)\n",
    "    assert np.isclose(a[-3], 2/3)\n",
    "    assert np.isclose(a[-4], 1/3)\n",
    "    assert np.isclose(a[-5], 1/5)\n",
    "    assert np.isclose(a[-6], 0)\n",
    "    assert np.isclose(a[0], 0)\n",
    "\n",
    "\n",
    "def test_point_sources_tetrahedron():\n",
    "    points = np.array([(1/4, 1/6, 0), (1/2, 1/2, 15/16)])\n",
    "\n",
    "    mesh = create_unit_cube(MPI.COMM_WORLD, 2, 2, 2)\n",
    "    space = FunctionSpace(mesh, (\"Lagrange\", 1))\n",
    "\n",
    "    vector = assemble_point_sources(space, points, [1, 1])\n",
    "\n",
    "    a = [i for i in vector]\n",
    "    a.sort()\n",
    "    assert np.isclose(a[-1], 7/8)\n",
    "    assert np.isclose(a[-2], 1/2)\n",
    "    assert np.isclose(a[-3], 1/3)\n",
    "    assert np.isclose(a[-4], 1/6)\n",
    "    assert np.isclose(a[-5], 1/8)\n",
    "    assert np.isclose(a[-6], 0)\n",
    "    assert np.isclose(a[0], 0)\n",
    "\n",
    "\n",
    "    mesh = create_unit_cube(MPI.COMM_WORLD, 2, 2, 2)\n",
    "    space = FunctionSpace(mesh, (\"Lagrange\", 1))\n",
    "\n",
    "    vector = assemble_point_sources(space, points, [2, 1])\n",
    "\n",
    "    a = [i for i in vector]\n",
    "    a.sort()\n",
    "    assert np.isclose(a[-1], 1)\n",
    "    assert np.isclose(a[-2], 7/8)\n",
    "    assert np.isclose(a[-3], 2/3)\n",
    "    assert np.isclose(a[-4], 1/3)\n",
    "    assert np.isclose(a[-5], 1/8)\n",
    "    assert np.isclose(a[-6], 0)\n",
    "    assert np.isclose(a[0], 0)"
   ]
  },
  {
   "cell_type": "markdown",
   "metadata": {},
   "source": [
    "## Solving problems for each of the mesh"
   ]
  },
  {
   "cell_type": "code",
   "execution_count": 2,
   "metadata": {},
   "outputs": [],
   "source": [
    "from mpi4py import MPI \n",
    "from dolfinx.mesh import create_unit_cube\n",
    "\n",
    "def poisson_boltzman_jn_const(mesh):\n",
    "    \n",
    "    nor = ufl.FacetNormal(mesh) \n",
    "    \n",
    "    # Spaces for FEM and BEM #\n",
    "    fenics_space = FunctionSpace(mesh, (\"Lagrange\", 1))\n",
    "    trace_space, trace_matrix = \\\n",
    "    fenicsx.fenics_to_bempp_trace_data(fenics_space)\n",
    "    bempp_space = bempp.api.function_space(trace_space.grid, \"P\", 1)\n",
    "\n",
    "    # Mesh size information #\n",
    "    fem_size = fenics_space.dofmap.index_map.size_global\n",
    "    print(\"FEM dofs: {0}\".format(fem_size))\n",
    "    print(\"BEM dofs: {0}\".format(bempp_space.global_dof_count))\n",
    "    hmax = trace_space.grid.maximum_element_diameter\n",
    "    # print(hmax)\n",
    "    \n",
    "    # Starting set-up time\n",
    "    start = time.time()     \n",
    "    \n",
    "    # FEM discrete variables\n",
    "    u = ufl.TrialFunction(fenics_space)\n",
    "    v = ufl.TestFunction(fenics_space)\n",
    "        \n",
    "    # BEM operators\n",
    "    id_op = bempp.api.operators.boundary.sparse.identity(trace_space, bempp_space, bempp_space)\n",
    "    mass = bempp.api.operators.boundary.sparse.identity(bempp_space, bempp_space, trace_space)\n",
    "    \n",
    "    if fmm:\n",
    "        dlp_0 = bempp.api.operators.boundary.laplace.double_layer(trace_space, bempp_space, bempp_space, assembler=\"fmm\")\n",
    "        slp_0 = bempp.api.operators.boundary.laplace.single_layer(bempp_space, bempp_space, bempp_space, assembler=\"fmm\")\n",
    "\n",
    "        dlp = bempp.api.operators.boundary.modified_helmholtz.double_layer(trace_space, bempp_space, bempp_space, w, assembler=\"fmm\")\n",
    "        slp = bempp.api.operators.boundary.modified_helmholtz.single_layer(bempp_space, bempp_space, bempp_space, w, assembler=\"fmm\")\n",
    "    else:\n",
    "        dlp_0 = bempp.api.operators.boundary.laplace.double_layer(trace_space, bempp_space, bempp_space)\n",
    "        slp_0 = bempp.api.operators.boundary.laplace.single_layer(bempp_space, bempp_space, bempp_space)\n",
    "\n",
    "        dlp = bempp.api.operators.boundary.modified_helmholtz.double_layer(trace_space, bempp_space, bempp_space, w)\n",
    "        slp = bempp.api.operators.boundary.modified_helmholtz.single_layer(bempp_space, bempp_space, bempp_space, w)\n",
    "\n",
    "    ######################### Matrix and RHS ##################################\n",
    "    \n",
    "    # RHS for FEM   \n",
    "    rhs_fem = assemble_point_sources(fenics_space, PC, Q/em)\n",
    "        \n",
    "    # RHS for BEM\n",
    "    rhs_bem = np.zeros(bempp_space.global_dof_count)\n",
    "    # Global RHS\n",
    "    rhs = np.concatenate([rhs_fem, rhs_bem])\n",
    "    \n",
    "    blocks = [[None,None],[None,None]]\n",
    "    \n",
    "    # FEM matrices\n",
    "    trace_op = LinearOperator(trace_matrix.shape, lambda x:trace_matrix*x)\n",
    "\n",
    "    A = fenicsx.FenicsOperator((ufl.inner(ufl.nabla_grad(u),\n",
    "                                     ufl.nabla_grad(v)) ) * ufl.dx)  \n",
    "        \n",
    "    # Blocked matrix\n",
    "    blocks[0][0] = A.weak_form()\n",
    "    blocks[0][1] = -trace_matrix.T * mass.weak_form().to_sparse()\n",
    "    blocks[1][0] = (.5 * id_op - dlp).weak_form() * trace_op\n",
    "    blocks[1][1] = slp.weak_form()*(em/es)\n",
    "\n",
    "    blocked = BlockedDiscreteOperator(np.array(blocks))\n",
    "    \n",
    "    ######################### Preconditioner and solvers ##################################\n",
    "    from scipy.sparse import diags\n",
    "    \n",
    "    # Diagonal Scaling #\n",
    "    P1 = diags(1./blocked[0,0].to_sparse().diagonal())\n",
    "\n",
    "    # Mass matrix preconditioner #\n",
    "    P2 = InverseSparseDiscreteBoundaryOperator(\n",
    "        bempp.api.operators.boundary.sparse.identity(\n",
    "            bempp_space, bempp_space, bempp_space).weak_form())\n",
    "\n",
    "    # Create a block diagonal preconditioner object using the Scipy LinearOperator class\n",
    "    def apply_prec(x):\n",
    "        \"\"\"Apply the block diagonal preconditioner\"\"\"\n",
    "        m1 = P1.shape[0]\n",
    "        m2 = P2.shape[0]\n",
    "        n1 = P1.shape[1]\n",
    "        n2 = P2.shape[1]\n",
    "\n",
    "        res1 = P1.dot(x[:n1]) \n",
    "        res2 = P2.dot(x[n1:])\n",
    "        return np.concatenate([res1, res2])\n",
    "\n",
    "    p_shape = (P1.shape[0] + P2.shape[0], P1.shape[1] + P2.shape[1])\n",
    "    P = LinearOperator(p_shape, apply_prec, dtype=np.dtype('float64'))\n",
    "        \n",
    "    end = time.time()\n",
    "    set_time = (end - start) \n",
    "    \n",
    "\n",
    "    from scipy.sparse.linalg import gmres\n",
    "    start = time.time()     \n",
    "    soln, info = gmres(blocked, rhs, M=P, callback=count_iterations, tol=tol, restrt=500)  \n",
    "    end = time.time()\n",
    "    solv_time = (end - start) \n",
    "    \n",
    "    soln_fem = soln[:fem_size]\n",
    "    soln_bem = soln[fem_size:]\n",
    "    \n",
    "    u = dolfinx.fem.Function(fenics_space)\n",
    "    u.vector.setValues(list(range(0,fem_size)), np.ascontiguousarray(soln_fem))\n",
    "    dirichlet_data = trace_matrix * soln_fem\n",
    "    dirichlet_fun = bempp.api.GridFunction(trace_space, coefficients=dirichlet_data)\n",
    "    neumann_fun = bempp.api.GridFunction(bempp_space, coefficients=soln_bem)\n",
    "    \n",
    "    ######################### Solvation energy ##################################\n",
    "    \n",
    "    slpF = bempp.api.operators.potential.laplace.single_layer(bempp_space, np.transpose(PC)) \n",
    "    dlpF = bempp.api.operators.potential.laplace.double_layer(trace_space, np.transpose(PC))\n",
    "\n",
    "    uF = slpF * neumann_fun - dlpF * dirichlet_fun\n",
    "\n",
    "    q_uF = 0\n",
    "    for i in range(len(PC)):\n",
    "        Sum = (uF[0][i].real)*Q[i]\n",
    "        q_uF = q_uF + Sum\n",
    "\n",
    "    E_Solv = 0.5*4.*np.pi*332.064*(q_uF) \n",
    "    \n",
    "    print('Energia de Solvatacion : {:7.3f} [kCal/mol]'.format(E_Solv))\n",
    "    \n",
    "    return E_Solv, hmax, iter_num, set_time, solv_time"
   ]
  },
  {
   "cell_type": "code",
   "execution_count": 3,
   "metadata": {},
   "outputs": [
    {
     "name": "stdout",
     "output_type": "stream",
     "text": [
      "102d_complex\n"
     ]
    },
    {
     "name": "stderr",
     "output_type": "stream",
     "text": [
      "INFO:bempp:Created grid with id b7c72c47-ba0f-4477-83b9-7df84dca8a67. Elements: 132364. Edges: 198546. Vertices: 66184\n"
     ]
    },
    {
     "name": "stdout",
     "output_type": "stream",
     "text": [
      "FEM dofs: 222833\n",
      "BEM dofs: 66184\n"
     ]
    },
    {
     "name": "stderr",
     "output_type": "stream",
     "text": [
      "INFO:bempp:OpenCL CPU Device set to: pthread-AMD Ryzen Threadripper PRO 3975WX 32-Cores\n",
      "WARNING:py.warnings:/usr/local/lib/python3.10/dist-packages/pyopencl/cache.py:495: CompilerWarning: Non-empty compiler output encountered. Set the environment variable PYOPENCL_COMPILER_OUTPUT=1 to see more.\n",
      "  _create_built_program_from_source_cached(\n",
      "\n",
      "WARNING:py.warnings:/usr/local/lib/python3.10/dist-packages/pyopencl/cache.py:499: CompilerWarning: Non-empty compiler output encountered. Set the environment variable PYOPENCL_COMPILER_OUTPUT=1 to see more.\n",
      "  prg.build(options_bytes, devices)\n",
      "\n",
      "WARNING:py.warnings:/usr/local/lib/python3.10/dist-packages/pyopencl/cache.py:495: CompilerWarning: Non-empty compiler output encountered. Set the environment variable PYOPENCL_COMPILER_OUTPUT=1 to see more.\n",
      "  _create_built_program_from_source_cached(\n",
      "\n",
      "WARNING:py.warnings:/usr/local/lib/python3.10/dist-packages/pyopencl/cache.py:499: CompilerWarning: Non-empty compiler output encountered. Set the environment variable PYOPENCL_COMPILER_OUTPUT=1 to see more.\n",
      "  prg.build(options_bytes, devices)\n",
      "\n",
      "WARNING:py.warnings:/usr/local/lib/python3.10/dist-packages/scipy/sparse/linalg/_dsolve/linsolve.py:394: SparseEfficiencyWarning: splu converted its input to CSC format\n",
      "  warn('splu converted its input to CSC format', SparseEfficiencyWarning)\n",
      "\n",
      "INFO:bempp:gmres finished in 211 iterations and took 1.71E+03 sec.\n"
     ]
    },
    {
     "name": "stdout",
     "output_type": "stream",
     "text": [
      "Energia de Solvatacion : -5228.570 [kCal/mol]\n",
      "Setup time:   570.5670\n",
      "Solve time:  1707.4178\n",
      "109d_complex\n"
     ]
    },
    {
     "name": "stderr",
     "output_type": "stream",
     "text": [
      "INFO:bempp:Created grid with id 8178748c-7482-4df9-93e3-b99e99663c68. Elements: 131356. Edges: 197034. Vertices: 65680\n"
     ]
    },
    {
     "name": "stdout",
     "output_type": "stream",
     "text": [
      "FEM dofs: 222336\n",
      "BEM dofs: 65680\n"
     ]
    },
    {
     "name": "stderr",
     "output_type": "stream",
     "text": [
      "INFO:bempp:gmres finished in 230 iterations and took 1.82E+03 sec.\n"
     ]
    },
    {
     "name": "stdout",
     "output_type": "stream",
     "text": [
      "Energia de Solvatacion : -5765.911 [kCal/mol]\n",
      "Setup time:   548.7509\n",
      "Solve time:  1821.4470\n",
      "121d_complex\n"
     ]
    },
    {
     "name": "stderr",
     "output_type": "stream",
     "text": [
      "INFO:bempp:Created grid with id 7b660a2d-8a2a-4368-bf6b-f53a91f8ad9d. Elements: 133464. Edges: 200196. Vertices: 66734\n"
     ]
    },
    {
     "name": "stdout",
     "output_type": "stream",
     "text": [
      "FEM dofs: 226313\n",
      "BEM dofs: 66734\n"
     ]
    },
    {
     "name": "stderr",
     "output_type": "stream",
     "text": [
      "INFO:bempp:gmres finished in 207 iterations and took 1.70E+03 sec.\n"
     ]
    },
    {
     "name": "stdout",
     "output_type": "stream",
     "text": [
      "Energia de Solvatacion : -5230.963 [kCal/mol]\n",
      "Setup time:   556.8611\n",
      "Solve time:  1697.6482\n",
      "127d_complex\n"
     ]
    },
    {
     "name": "stderr",
     "output_type": "stream",
     "text": [
      "INFO:bempp:Created grid with id 5eae9007-36ea-442f-ba43-9bd9298c708f. Elements: 132848. Edges: 199272. Vertices: 66426\n"
     ]
    },
    {
     "name": "stdout",
     "output_type": "stream",
     "text": [
      "FEM dofs: 224408\n",
      "BEM dofs: 66426\n"
     ]
    },
    {
     "name": "stderr",
     "output_type": "stream",
     "text": [
      "INFO:bempp:gmres finished in 204 iterations and took 1.52E+03 sec.\n"
     ]
    },
    {
     "name": "stdout",
     "output_type": "stream",
     "text": [
      "Energia de Solvatacion : -5664.878 [kCal/mol]\n",
      "Setup time:   570.5323\n",
      "Solve time:  1518.3541\n",
      "129d_complex\n"
     ]
    },
    {
     "name": "stderr",
     "output_type": "stream",
     "text": [
      "INFO:bempp:Created grid with id 39c818d9-e346-489a-9788-9f46c7ee39e4. Elements: 131968. Edges: 197952. Vertices: 65986\n"
     ]
    },
    {
     "name": "stdout",
     "output_type": "stream",
     "text": [
      "FEM dofs: 222363\n",
      "BEM dofs: 65986\n"
     ]
    },
    {
     "name": "stderr",
     "output_type": "stream",
     "text": [
      "INFO:bempp:gmres finished in 209 iterations and took 1.60E+03 sec.\n"
     ]
    },
    {
     "name": "stdout",
     "output_type": "stream",
     "text": [
      "Energia de Solvatacion : -5658.633 [kCal/mol]\n",
      "Setup time:   551.1501\n",
      "Solve time:  1596.5250\n",
      "166d_complex\n"
     ]
    },
    {
     "name": "stderr",
     "output_type": "stream",
     "text": [
      "INFO:bempp:Created grid with id 0eaf78b1-628a-45a5-9037-759fec6a6e41. Elements: 133696. Edges: 200544. Vertices: 66850\n"
     ]
    },
    {
     "name": "stdout",
     "output_type": "stream",
     "text": [
      "FEM dofs: 225511\n",
      "BEM dofs: 66850\n"
     ]
    },
    {
     "name": "stderr",
     "output_type": "stream",
     "text": [
      "INFO:bempp:gmres finished in 203 iterations and took 1.55E+03 sec.\n"
     ]
    },
    {
     "name": "stdout",
     "output_type": "stream",
     "text": [
      "Energia de Solvatacion : -5216.136 [kCal/mol]\n",
      "Setup time:   566.2681\n",
      "Solve time:  1549.0117\n",
      "195d_complex\n"
     ]
    },
    {
     "name": "stderr",
     "output_type": "stream",
     "text": [
      "INFO:bempp:Created grid with id 6598a673-8a2f-4f13-b8b6-6ad485c79217. Elements: 134216. Edges: 201324. Vertices: 67110\n"
     ]
    },
    {
     "name": "stdout",
     "output_type": "stream",
     "text": [
      "FEM dofs: 226527\n",
      "BEM dofs: 67110\n"
     ]
    },
    {
     "name": "stderr",
     "output_type": "stream",
     "text": [
      "INFO:bempp:gmres finished in 214 iterations and took 1.61E+03 sec.\n"
     ]
    },
    {
     "name": "stdout",
     "output_type": "stream",
     "text": [
      "Energia de Solvatacion : -5217.907 [kCal/mol]\n",
      "Setup time:   554.9321\n",
      "Solve time:  1611.3128\n",
      "1d30_complex\n"
     ]
    },
    {
     "name": "stderr",
     "output_type": "stream",
     "text": [
      "INFO:bempp:Created grid with id 75977868-2aa6-48fd-9b22-9ba550511993. Elements: 134364. Edges: 201546. Vertices: 67184\n"
     ]
    },
    {
     "name": "stdout",
     "output_type": "stream",
     "text": [
      "FEM dofs: 226643\n",
      "BEM dofs: 67184\n"
     ]
    },
    {
     "name": "stderr",
     "output_type": "stream",
     "text": [
      "INFO:bempp:gmres finished in 213 iterations and took 1.66E+03 sec.\n"
     ]
    },
    {
     "name": "stdout",
     "output_type": "stream",
     "text": [
      "Energia de Solvatacion : -5201.026 [kCal/mol]\n",
      "Setup time:   551.4915\n",
      "Solve time:  1657.7879\n",
      "1d63_complex\n"
     ]
    },
    {
     "name": "stderr",
     "output_type": "stream",
     "text": [
      "INFO:bempp:Created grid with id cea2219a-04e8-4acb-94f4-06153c36ca93. Elements: 133660. Edges: 200490. Vertices: 66832\n"
     ]
    },
    {
     "name": "stdout",
     "output_type": "stream",
     "text": [
      "FEM dofs: 225203\n",
      "BEM dofs: 66832\n"
     ]
    },
    {
     "name": "stderr",
     "output_type": "stream",
     "text": [
      "INFO:bempp:gmres finished in 204 iterations and took 1.56E+03 sec.\n"
     ]
    },
    {
     "name": "stdout",
     "output_type": "stream",
     "text": [
      "Energia de Solvatacion : -5210.900 [kCal/mol]\n",
      "Setup time:   555.2859\n",
      "Solve time:  1558.9643\n",
      "1d64_complex\n"
     ]
    },
    {
     "name": "stderr",
     "output_type": "stream",
     "text": [
      "INFO:bempp:Created grid with id 8763a1de-849d-4626-80be-0b78c9a0e1da. Elements: 134676. Edges: 202014. Vertices: 67340\n"
     ]
    },
    {
     "name": "stdout",
     "output_type": "stream",
     "text": [
      "FEM dofs: 227077\n",
      "BEM dofs: 67340\n"
     ]
    },
    {
     "name": "stderr",
     "output_type": "stream",
     "text": [
      "INFO:bempp:gmres finished in 226 iterations and took 1.78E+03 sec.\n"
     ]
    },
    {
     "name": "stdout",
     "output_type": "stream",
     "text": [
      "Energia de Solvatacion : -5200.953 [kCal/mol]\n",
      "Setup time:   551.4505\n",
      "Solve time:  1784.4482\n",
      "1d86_complex\n"
     ]
    },
    {
     "name": "stderr",
     "output_type": "stream",
     "text": [
      "INFO:bempp:Created grid with id a20697b1-efe1-4314-bacd-3cfc7f9341c2. Elements: 133316. Edges: 199974. Vertices: 66660\n"
     ]
    },
    {
     "name": "stdout",
     "output_type": "stream",
     "text": [
      "FEM dofs: 225309\n",
      "BEM dofs: 66660\n"
     ]
    },
    {
     "name": "stderr",
     "output_type": "stream",
     "text": [
      "INFO:bempp:gmres finished in 207 iterations and took 1.61E+03 sec.\n"
     ]
    },
    {
     "name": "stdout",
     "output_type": "stream",
     "text": [
      "Energia de Solvatacion : -5240.812 [kCal/mol]\n",
      "Setup time:   552.7344\n",
      "Solve time:  1608.3992\n",
      "1dne_complex\n"
     ]
    },
    {
     "name": "stderr",
     "output_type": "stream",
     "text": [
      "INFO:bempp:Created grid with id 0481f840-a234-4d94-8347-13d4eeeb90a1. Elements: 133296. Edges: 199944. Vertices: 66650\n"
     ]
    },
    {
     "name": "stdout",
     "output_type": "stream",
     "text": [
      "FEM dofs: 225641\n",
      "BEM dofs: 66650\n"
     ]
    },
    {
     "name": "stderr",
     "output_type": "stream",
     "text": [
      "INFO:bempp:gmres finished in 206 iterations and took 1.59E+03 sec.\n"
     ]
    },
    {
     "name": "stdout",
     "output_type": "stream",
     "text": [
      "Energia de Solvatacion : -5192.234 [kCal/mol]\n",
      "Setup time:   548.5189\n",
      "Solve time:  1587.3487\n",
      "1eel_complex\n"
     ]
    },
    {
     "name": "stderr",
     "output_type": "stream",
     "text": [
      "INFO:bempp:Created grid with id 26e1d341-aec9-4cb8-91b2-753f83804249. Elements: 135504. Edges: 203256. Vertices: 67754\n"
     ]
    },
    {
     "name": "stdout",
     "output_type": "stream",
     "text": [
      "FEM dofs: 230661\n",
      "BEM dofs: 67754\n"
     ]
    },
    {
     "name": "stderr",
     "output_type": "stream",
     "text": [
      "INFO:bempp:gmres finished in 218 iterations and took 1.70E+03 sec.\n"
     ]
    },
    {
     "name": "stdout",
     "output_type": "stream",
     "text": [
      "Energia de Solvatacion : -5181.202 [kCal/mol]\n",
      "Setup time:   571.0687\n",
      "Solve time:  1700.0488\n",
      "1fmq_complex\n"
     ]
    },
    {
     "name": "stderr",
     "output_type": "stream",
     "text": [
      "INFO:bempp:Created grid with id c3c24c85-62ce-4204-994a-213db4d97d58. Elements: 136160. Edges: 204240. Vertices: 68082\n"
     ]
    },
    {
     "name": "stdout",
     "output_type": "stream",
     "text": [
      "FEM dofs: 231032\n",
      "BEM dofs: 68082\n"
     ]
    },
    {
     "name": "stderr",
     "output_type": "stream",
     "text": [
      "INFO:bempp:gmres finished in 211 iterations and took 1.68E+03 sec.\n"
     ]
    },
    {
     "name": "stdout",
     "output_type": "stream",
     "text": [
      "Energia de Solvatacion : -5173.891 [kCal/mol]\n",
      "Setup time:   568.1946\n",
      "Solve time:  1675.3024\n",
      "1fms_complex\n"
     ]
    },
    {
     "name": "stderr",
     "output_type": "stream",
     "text": [
      "INFO:bempp:Created grid with id 1b3fbc49-06db-4da1-98a4-2849eeea6c59. Elements: 134848. Edges: 202272. Vertices: 67426\n"
     ]
    },
    {
     "name": "stdout",
     "output_type": "stream",
     "text": [
      "FEM dofs: 229428\n",
      "BEM dofs: 67426\n"
     ]
    },
    {
     "name": "stderr",
     "output_type": "stream",
     "text": [
      "INFO:bempp:gmres finished in 210 iterations and took 1.73E+03 sec.\n"
     ]
    },
    {
     "name": "stdout",
     "output_type": "stream",
     "text": [
      "Energia de Solvatacion : -5192.155 [kCal/mol]\n",
      "Setup time:   590.9614\n",
      "Solve time:  1734.1210\n",
      "1jtl_complex\n"
     ]
    },
    {
     "name": "stderr",
     "output_type": "stream",
     "text": [
      "INFO:bempp:Created grid with id beb740de-ad29-4bd9-b525-2c0835f07304. Elements: 119000. Edges: 178500. Vertices: 59502\n"
     ]
    },
    {
     "name": "stdout",
     "output_type": "stream",
     "text": [
      "FEM dofs: 198510\n",
      "BEM dofs: 59502\n"
     ]
    },
    {
     "name": "stderr",
     "output_type": "stream",
     "text": [
      "INFO:bempp:gmres finished in 207 iterations and took 1.55E+03 sec.\n"
     ]
    },
    {
     "name": "stdout",
     "output_type": "stream",
     "text": [
      "Energia de Solvatacion : -4140.248 [kCal/mol]\n",
      "Setup time:   413.8588\n",
      "Solve time:  1550.7250\n",
      "1lex_complex\n"
     ]
    },
    {
     "name": "stderr",
     "output_type": "stream",
     "text": [
      "INFO:bempp:Created grid with id cb65328a-1102-4798-8ca7-68959598c2b5. Elements: 133456. Edges: 200184. Vertices: 66730\n"
     ]
    },
    {
     "name": "stdout",
     "output_type": "stream",
     "text": [
      "FEM dofs: 225540\n",
      "BEM dofs: 66730\n"
     ]
    },
    {
     "name": "stderr",
     "output_type": "stream",
     "text": [
      "INFO:bempp:gmres finished in 215 iterations and took 1.66E+03 sec.\n"
     ]
    },
    {
     "name": "stdout",
     "output_type": "stream",
     "text": [
      "Energia de Solvatacion : -5216.897 [kCal/mol]\n",
      "Setup time:   560.7026\n",
      "Solve time:  1655.8785\n",
      "1prp_complex\n"
     ]
    },
    {
     "name": "stderr",
     "output_type": "stream",
     "text": [
      "INFO:bempp:Created grid with id e4e7b656-77e0-4e70-a322-9e17971fd342. Elements: 134444. Edges: 201666. Vertices: 67224\n"
     ]
    },
    {
     "name": "stdout",
     "output_type": "stream",
     "text": [
      "FEM dofs: 227409\n",
      "BEM dofs: 67224\n"
     ]
    },
    {
     "name": "stderr",
     "output_type": "stream",
     "text": [
      "INFO:bempp:gmres finished in 210 iterations and took 1.69E+03 sec.\n"
     ]
    },
    {
     "name": "stdout",
     "output_type": "stream",
     "text": [
      "Energia de Solvatacion : -5216.329 [kCal/mol]\n",
      "Setup time:   560.7152\n",
      "Solve time:  1694.4340\n",
      "227d_complex\n"
     ]
    },
    {
     "name": "stderr",
     "output_type": "stream",
     "text": [
      "INFO:bempp:Created grid with id ae08ce7a-0057-4a0d-aaa3-47ab1d1e57ba. Elements: 133644. Edges: 200466. Vertices: 66824\n"
     ]
    },
    {
     "name": "stdout",
     "output_type": "stream",
     "text": [
      "FEM dofs: 225627\n",
      "BEM dofs: 66824\n"
     ]
    },
    {
     "name": "stderr",
     "output_type": "stream",
     "text": [
      "INFO:bempp:gmres finished in 206 iterations and took 1.58E+03 sec.\n"
     ]
    },
    {
     "name": "stdout",
     "output_type": "stream",
     "text": [
      "Energia de Solvatacion : -5215.673 [kCal/mol]\n",
      "Setup time:   554.6237\n",
      "Solve time:  1576.7490\n",
      "261d_complex\n"
     ]
    },
    {
     "name": "stderr",
     "output_type": "stream",
     "text": [
      "INFO:bempp:Created grid with id 1f5310f5-e6fb-4ca4-bcfc-df458729db17. Elements: 107232. Edges: 160848. Vertices: 53618\n"
     ]
    },
    {
     "name": "stdout",
     "output_type": "stream",
     "text": [
      "FEM dofs: 178869\n",
      "BEM dofs: 53618\n"
     ]
    },
    {
     "name": "stderr",
     "output_type": "stream",
     "text": [
      "INFO:bempp:gmres finished in 202 iterations and took 1.52E+03 sec.\n"
     ]
    },
    {
     "name": "stdout",
     "output_type": "stream",
     "text": [
      "Energia de Solvatacion : -3420.164 [kCal/mol]\n",
      "Setup time:   364.5303\n",
      "Solve time:  1517.8788\n",
      "264d_complex\n"
     ]
    },
    {
     "name": "stderr",
     "output_type": "stream",
     "text": [
      "INFO:bempp:Created grid with id 8a3b3eb3-4d64-45a1-88bf-4b4a09bca0a0. Elements: 132800. Edges: 199200. Vertices: 66402\n"
     ]
    },
    {
     "name": "stdout",
     "output_type": "stream",
     "text": [
      "FEM dofs: 224200\n",
      "BEM dofs: 66402\n"
     ]
    },
    {
     "name": "stderr",
     "output_type": "stream",
     "text": [
      "INFO:bempp:gmres finished in 202 iterations and took 1.77E+03 sec.\n"
     ]
    },
    {
     "name": "stdout",
     "output_type": "stream",
     "text": [
      "Energia de Solvatacion : -5708.603 [kCal/mol]\n",
      "Setup time:   573.3458\n",
      "Solve time:  1767.7263\n",
      "289d_complex\n"
     ]
    },
    {
     "name": "stderr",
     "output_type": "stream",
     "text": [
      "INFO:bempp:Created grid with id 63099123-75c7-41e7-8102-ce8f1b8eaec1. Elements: 134780. Edges: 202170. Vertices: 67392\n"
     ]
    },
    {
     "name": "stdout",
     "output_type": "stream",
     "text": [
      "FEM dofs: 227138\n",
      "BEM dofs: 67392\n"
     ]
    },
    {
     "name": "stderr",
     "output_type": "stream",
     "text": [
      "66 warnings generated.\n",
      "WARNING:py.warnings:/usr/local/lib/python3.10/dist-packages/pyopencl/cache.py:417: CompilerWarning: Non-empty compiler output encountered. Set the environment variable PYOPENCL_COMPILER_OUTPUT=1 to see more.\n",
      "  prg.build(options_bytes, [devices[i] for i in to_be_built_indices])\n",
      "\n",
      "66 warnings generated.\n",
      "INFO:bempp:gmres finished in 213 iterations and took 1.74E+03 sec.\n"
     ]
    },
    {
     "name": "stdout",
     "output_type": "stream",
     "text": [
      "Energia de Solvatacion : -5191.429 [kCal/mol]\n",
      "Setup time:   553.6838\n",
      "Solve time:  1744.5121\n",
      "298d_complex\n"
     ]
    },
    {
     "name": "stderr",
     "output_type": "stream",
     "text": [
      "INFO:bempp:Created grid with id 9962136b-630a-46be-b885-60f9314aa06d. Elements: 135344. Edges: 203016. Vertices: 67674\n"
     ]
    },
    {
     "name": "stdout",
     "output_type": "stream",
     "text": [
      "FEM dofs: 228686\n",
      "BEM dofs: 67674\n"
     ]
    },
    {
     "name": "stderr",
     "output_type": "stream",
     "text": [
      "INFO:bempp:gmres finished in 207 iterations and took 1.70E+03 sec.\n"
     ]
    },
    {
     "name": "stdout",
     "output_type": "stream",
     "text": [
      "Energia de Solvatacion : -5198.255 [kCal/mol]\n",
      "Setup time:   576.0047\n",
      "Solve time:  1701.3560\n",
      "2dbe_complex\n"
     ]
    },
    {
     "name": "stderr",
     "output_type": "stream",
     "text": [
      "INFO:bempp:Created grid with id e855b98f-3e92-40af-9cb4-62a5273d551d. Elements: 134060. Edges: 201090. Vertices: 67032\n"
     ]
    },
    {
     "name": "stdout",
     "output_type": "stream",
     "text": [
      "FEM dofs: 225781\n",
      "BEM dofs: 67032\n"
     ]
    },
    {
     "name": "stderr",
     "output_type": "stream",
     "text": [
      "INFO:bempp:gmres finished in 212 iterations and took 1.67E+03 sec.\n"
     ]
    },
    {
     "name": "stdout",
     "output_type": "stream",
     "text": [
      "Energia de Solvatacion : -5238.791 [kCal/mol]\n",
      "Setup time:   534.8438\n",
      "Solve time:  1665.6654\n",
      "302d_complex\n"
     ]
    },
    {
     "name": "stderr",
     "output_type": "stream",
     "text": [
      "INFO:bempp:Created grid with id 138652cc-16e1-4aa1-9dfd-93a8aaecb4dd. Elements: 134276. Edges: 201414. Vertices: 67140\n"
     ]
    },
    {
     "name": "stdout",
     "output_type": "stream",
     "text": [
      "FEM dofs: 226390\n",
      "BEM dofs: 67140\n"
     ]
    },
    {
     "name": "stderr",
     "output_type": "stream",
     "text": [
      "INFO:bempp:gmres finished in 221 iterations and took 1.72E+03 sec.\n"
     ]
    },
    {
     "name": "stdout",
     "output_type": "stream",
     "text": [
      "Energia de Solvatacion : -5674.627 [kCal/mol]\n",
      "Setup time:   574.2464\n",
      "Solve time:  1723.8761\n",
      "311d_complex\n"
     ]
    },
    {
     "name": "stderr",
     "output_type": "stream",
     "text": [
      "INFO:bempp:Created grid with id 06d0c0bf-8cd6-4d0b-99d0-27e8fcceb391. Elements: 130628. Edges: 195942. Vertices: 65316\n"
     ]
    },
    {
     "name": "stdout",
     "output_type": "stream",
     "text": [
      "FEM dofs: 220387\n",
      "BEM dofs: 65316\n"
     ]
    },
    {
     "name": "stderr",
     "output_type": "stream",
     "text": [
      "INFO:bempp:gmres finished in 200 iterations and took 1.47E+03 sec.\n"
     ]
    },
    {
     "name": "stdout",
     "output_type": "stream",
     "text": [
      "Energia de Solvatacion : -5221.561 [kCal/mol]\n",
      "Setup time:   550.9437\n",
      "Solve time:  1472.9339\n",
      "328d_complex\n"
     ]
    },
    {
     "name": "stderr",
     "output_type": "stream",
     "text": [
      "INFO:bempp:Created grid with id ebd60d26-ee7f-4d4a-9f36-195438035369. Elements: 133556. Edges: 200334. Vertices: 66780\n"
     ]
    },
    {
     "name": "stdout",
     "output_type": "stream",
     "text": [
      "FEM dofs: 224852\n",
      "BEM dofs: 66780\n"
     ]
    },
    {
     "name": "stderr",
     "output_type": "stream",
     "text": [
      "INFO:bempp:gmres finished in 205 iterations and took 1.58E+03 sec.\n"
     ]
    },
    {
     "name": "stdout",
     "output_type": "stream",
     "text": [
      "Energia de Solvatacion : -5239.017 [kCal/mol]\n",
      "Setup time:   570.1627\n",
      "Solve time:  1581.8486\n",
      "360d_complex\n"
     ]
    },
    {
     "name": "stderr",
     "output_type": "stream",
     "text": [
      "INFO:bempp:Created grid with id e11499be-81f6-4593-b2c8-df39cf3caf93. Elements: 136668. Edges: 205002. Vertices: 68336\n"
     ]
    },
    {
     "name": "stdout",
     "output_type": "stream",
     "text": [
      "FEM dofs: 229720\n",
      "BEM dofs: 68336\n"
     ]
    },
    {
     "name": "stderr",
     "output_type": "stream",
     "text": [
      "66 warnings generated.\n",
      "INFO:bempp:gmres finished in 202 iterations and took 1.60E+03 sec.\n"
     ]
    },
    {
     "name": "stdout",
     "output_type": "stream",
     "text": [
      "Energia de Solvatacion : -5209.623 [kCal/mol]\n",
      "Setup time:   556.7911\n",
      "Solve time:  1597.0274\n"
     ]
    }
   ],
   "source": [
    "import dolfinx\n",
    "import dolfinx.io\n",
    "import dolfinx.geometry\n",
    "from petsc4py import PETSc\n",
    "import ufl\n",
    "from scipy.sparse import csr_matrix\n",
    "\n",
    "import bempp.api\n",
    "from bempp.api.external import fenicsx\n",
    "import numpy as np\n",
    "import pylab as plt\n",
    "import time\n",
    "\n",
    "from scipy.sparse.linalg import gmres\n",
    "from scipy.sparse.linalg import LinearOperator\n",
    "from bempp.api.assembly.discrete_boundary_operator import InverseSparseDiscreteBoundaryOperator\n",
    "from bempp.api.assembly.blocked_operator import BlockedDiscreteOperator\n",
    "\n",
    "from bempp.api.operators.boundary import sparse, laplace, modified_helmholtz\n",
    "from bempp.api.operators.potential import laplace as lp\n",
    "\n",
    "bempp.api.set_logging_level(level='info')\n",
    " \n",
    "# Solver data #\n",
    "tol = 1e-05         # Tolerance\n",
    "fmm = 1             # Use FMM\n",
    "\n",
    "# Problem data #\n",
    "from readpqr_all import readpqr_all\n",
    "w = 0.10265                                            # kappa\n",
    "es = 80.                                               # External permitivity (solvant)\n",
    "em = 1.                                                # Internal permitivity (molecule)\n",
    "\n",
    "ec = 1.602176e-19 #[C]\n",
    "kb = 1.380648e-23 #[J/K]\n",
    "T  = 298 #[K]\n",
    "S1 = 1 #(ec/(kb*T))  #38.681 [C/J]\n",
    "\n",
    "# Result collecting lists #\n",
    "solv_error = []\n",
    "mesh_size = []\n",
    "iter_num = []\n",
    "time_solve = []\n",
    "time_set = []\n",
    "\n",
    "# Iteratotion for mesh #\n",
    "grid = ['102d', '109d', '121d', '127d', '129d', '166d', '195d', '1d30', '1d63', '1d64', '1d86', '1dne', '1eel', '1fmq', '1fms', '1jtl', '1lex', '1prp', '227d', '261d', '264d', '289d', '298d', '2dbe', '302d', '311d', '328d', '360d']\n",
    "\n",
    "it_count = 0\n",
    "def count_iterations(x):\n",
    "    global it_count\n",
    "    it_count += 1\n",
    "\n",
    "for m in grid:\n",
    "    print(m+'_complex')\n",
    "    ######################### Mesh and spaces ##################################\n",
    "    [PC, Q, R] = readpqr_all('./data-set1/'+m+'_complex.pqr')         # Charges, Points of charges and Radiuses\n",
    "    mesh_file = \"./data-set1/\"+m+\"_complex-converted.xdmf\"\n",
    "    with dolfinx.io.XDMFFile(MPI.COMM_WORLD, mesh_file, \"r\") as xdmf:\n",
    "        mesh = xdmf.read_mesh(name=\"Grid\")\n",
    "        it_count = 0\n",
    "        E_Solv, hmax, iter_num, set_time, solv_time = poisson_boltzman_jn_const(mesh)\n",
    "        time_set.append(set_time)\n",
    "        print(\"Setup time: {:10.4f}\".format(set_time)) \n",
    "        time_solve.append(solv_time)   \n",
    "        print(\"Solve time: {:10.4f}\".format(solv_time)) \n",
    "        bempp.api.log(\n",
    "            \"gmres finished in %i iterations and took %.2E sec.\" % (it_count, solv_time))\n",
    "        # print(\"Number of iterations: {0}\".format(it_count))\n",
    "        iter_num.append(it_count)\n",
    "        mesh_size.append(hmax)   \n",
    "        \n",
    "        #### Just saving the solution\n",
    "        solv_error.append(E_Solv)  "
   ]
  },
  {
   "cell_type": "code",
   "execution_count": null,
   "metadata": {},
   "outputs": [],
   "source": []
  },
  {
   "cell_type": "code",
   "execution_count": null,
   "metadata": {},
   "outputs": [],
   "source": []
  },
  {
   "cell_type": "code",
   "execution_count": null,
   "metadata": {},
   "outputs": [],
   "source": []
  },
  {
   "cell_type": "code",
   "execution_count": null,
   "metadata": {},
   "outputs": [],
   "source": []
  },
  {
   "cell_type": "code",
   "execution_count": null,
   "metadata": {},
   "outputs": [],
   "source": []
  }
 ],
 "metadata": {
  "kernelspec": {
   "display_name": "Python 3 (ipykernel)",
   "language": "python",
   "name": "python3"
  },
  "language_info": {
   "codemirror_mode": {
    "name": "ipython",
    "version": 3
   },
   "file_extension": ".py",
   "mimetype": "text/x-python",
   "name": "python",
   "nbconvert_exporter": "python",
   "pygments_lexer": "ipython3",
   "version": "3.10.6"
  }
 },
 "nbformat": 4,
 "nbformat_minor": 4
}
