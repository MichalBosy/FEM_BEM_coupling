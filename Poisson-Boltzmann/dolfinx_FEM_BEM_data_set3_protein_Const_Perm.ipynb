{
 "cells": [
  {
   "cell_type": "markdown",
   "metadata": {},
   "source": [
    "# FEM-BEM coupling of Poisson-Boltzmann"
   ]
  },
  {
   "cell_type": "code",
   "execution_count": 1,
   "metadata": {},
   "outputs": [],
   "source": [
    "import numpy as np\n",
    "from mpi4py import MPI\n",
    "from dolfinx.fem import FunctionSpace\n",
    "from dolfinx.mesh import create_unit_square, create_unit_cube\n",
    "from dolfinx.geometry import (compute_colliding_cells,\n",
    "                              compute_collisions_points)\n",
    "\n",
    "def get_local_coordinates(vertices, point):\n",
    "    \"\"\"Get the local coordinates of the point in the cell.\"\"\"\n",
    "    origin = vertices[0]\n",
    "    axes = [v - origin for v in vertices[1:]]\n",
    "    tdim = 3\n",
    "    if len(axes) == 2:\n",
    "        axes.append(np.cross(axes[0], axes[1]))\n",
    "        tdim = 2\n",
    "\n",
    "    assert len(axes) == 3\n",
    "\n",
    "\n",
    "    return np.linalg.solve(np.array(axes).T, point - origin)[:tdim]\n",
    "\n",
    "\n",
    "def assemble_point_sources(space, points, weights):\n",
    "    vector = np.zeros(space.dofmap.index_map.size_global)\n",
    "\n",
    "    mesh = space.mesh\n",
    "    for point, weight in zip(points, weights):\n",
    "        # Get cell\n",
    "        tree = dolfinx.geometry.bb_tree(mesh, mesh.geometry.dim)\n",
    "        cell_candidates = compute_collisions_points(tree, point)\n",
    "        # This gets the first cell. Would it be better to put a fraction of the delta function into each cell instead?\n",
    "        cell = compute_colliding_cells(mesh, cell_candidates, point)[0]\n",
    "\n",
    "        # Get local coordinates\n",
    "        # Note: this currently only works for affine triangles and tetrahedra\n",
    "        v = [mesh.geometry.x[i] for i in mesh.geometry.dofmap[cell]]\n",
    "        local_coordinates = get_local_coordinates(v, point)\n",
    "\n",
    "        # Note: this currently only works for scalar-valued elements that use an identity push forward map\n",
    "        values = space.element.basix_element.tabulate(0, [local_coordinates])[0, 0, :, 0]\n",
    "        dofs = space.dofmap.cell_dofs(cell)\n",
    "\n",
    "        for d, v in zip(dofs, values):\n",
    "            vector[d] += v * weight\n",
    "\n",
    "    return vector\n",
    "\n",
    "\n",
    "def test_point_sources_triangle():\n",
    "    points = np.array([(1/4, 1/6, 0), (1/10, 6/10, 0)])\n",
    "\n",
    "    mesh = create_unit_square(MPI.COMM_WORLD, 2, 2)\n",
    "    space = FunctionSpace(mesh, (\"Lagrange\", 1))\n",
    "\n",
    "    vector = assemble_point_sources(space, points, [1, 1])\n",
    "\n",
    "    a = [i for i in vector]\n",
    "    a.sort()\n",
    "    assert np.isclose(a[-1], 4/5)\n",
    "    assert np.isclose(a[-2], 1/2)\n",
    "    assert np.isclose(a[-3], 1/3)\n",
    "    assert np.isclose(a[-4], 1/5)\n",
    "    assert np.isclose(a[-5], 1/6)\n",
    "    assert np.isclose(a[-6], 0)\n",
    "    assert np.isclose(a[0], 0)\n",
    "\n",
    "    vector = assemble_point_sources(space, points, [2, 1])\n",
    "\n",
    "    a = [i for i in vector]\n",
    "    a.sort()\n",
    "    assert np.isclose(a[-1], 1)\n",
    "    assert np.isclose(a[-2], 4/5)\n",
    "    assert np.isclose(a[-3], 2/3)\n",
    "    assert np.isclose(a[-4], 1/3)\n",
    "    assert np.isclose(a[-5], 1/5)\n",
    "    assert np.isclose(a[-6], 0)\n",
    "    assert np.isclose(a[0], 0)\n",
    "\n",
    "\n",
    "def test_point_sources_tetrahedron():\n",
    "    points = np.array([(1/4, 1/6, 0), (1/2, 1/2, 15/16)])\n",
    "\n",
    "    mesh = create_unit_cube(MPI.COMM_WORLD, 2, 2, 2)\n",
    "    space = FunctionSpace(mesh, (\"Lagrange\", 1))\n",
    "\n",
    "    vector = assemble_point_sources(space, points, [1, 1])\n",
    "\n",
    "    a = [i for i in vector]\n",
    "    a.sort()\n",
    "    assert np.isclose(a[-1], 7/8)\n",
    "    assert np.isclose(a[-2], 1/2)\n",
    "    assert np.isclose(a[-3], 1/3)\n",
    "    assert np.isclose(a[-4], 1/6)\n",
    "    assert np.isclose(a[-5], 1/8)\n",
    "    assert np.isclose(a[-6], 0)\n",
    "    assert np.isclose(a[0], 0)\n",
    "\n",
    "\n",
    "    mesh = create_unit_cube(MPI.COMM_WORLD, 2, 2, 2)\n",
    "    space = FunctionSpace(mesh, (\"Lagrange\", 1))\n",
    "\n",
    "    vector = assemble_point_sources(space, points, [2, 1])\n",
    "\n",
    "    a = [i for i in vector]\n",
    "    a.sort()\n",
    "    assert np.isclose(a[-1], 1)\n",
    "    assert np.isclose(a[-2], 7/8)\n",
    "    assert np.isclose(a[-3], 2/3)\n",
    "    assert np.isclose(a[-4], 1/3)\n",
    "    assert np.isclose(a[-5], 1/8)\n",
    "    assert np.isclose(a[-6], 0)\n",
    "    assert np.isclose(a[0], 0)"
   ]
  },
  {
   "cell_type": "markdown",
   "metadata": {},
   "source": [
    "## Solving problems for each of the mesh"
   ]
  },
  {
   "cell_type": "code",
   "execution_count": 2,
   "metadata": {},
   "outputs": [],
   "source": [
    "from mpi4py import MPI \n",
    "from dolfinx.mesh import create_unit_cube\n",
    "\n",
    "def poisson_boltzman_jn_const(mesh):\n",
    "    \n",
    "    nor = ufl.FacetNormal(mesh) \n",
    "    \n",
    "    # Spaces for FEM and BEM #\n",
    "    fenics_space = FunctionSpace(mesh, (\"Lagrange\", 1))\n",
    "    trace_space, trace_matrix = \\\n",
    "    fenicsx.fenics_to_bempp_trace_data(fenics_space)\n",
    "    bempp_space = bempp.api.function_space(trace_space.grid, \"P\", 1)\n",
    "\n",
    "    # Mesh size information #\n",
    "    fem_size = fenics_space.dofmap.index_map.size_global\n",
    "    print(\"FEM dofs: {0}\".format(fem_size))\n",
    "    print(\"BEM dofs: {0}\".format(bempp_space.global_dof_count))\n",
    "    hmax = trace_space.grid.maximum_element_diameter\n",
    "    \n",
    "    # Starting set-up time\n",
    "    start = time.time()     \n",
    "    \n",
    "    # FEM discrete variables\n",
    "    u = ufl.TrialFunction(fenics_space)\n",
    "    v = ufl.TestFunction(fenics_space)\n",
    "        \n",
    "    # BEM operators\n",
    "    id_op = bempp.api.operators.boundary.sparse.identity(trace_space, bempp_space, bempp_space)\n",
    "    mass = bempp.api.operators.boundary.sparse.identity(bempp_space, bempp_space, trace_space)\n",
    "    \n",
    "    if fmm:\n",
    "        dlp_0 = bempp.api.operators.boundary.laplace.double_layer(trace_space, bempp_space, bempp_space, assembler=\"fmm\")\n",
    "        slp_0 = bempp.api.operators.boundary.laplace.single_layer(bempp_space, bempp_space, bempp_space, assembler=\"fmm\")\n",
    "\n",
    "        dlp = bempp.api.operators.boundary.modified_helmholtz.double_layer(trace_space, bempp_space, bempp_space, w, assembler=\"fmm\")\n",
    "        slp = bempp.api.operators.boundary.modified_helmholtz.single_layer(bempp_space, bempp_space, bempp_space, w, assembler=\"fmm\")\n",
    "    else:\n",
    "        dlp_0 = bempp.api.operators.boundary.laplace.double_layer(trace_space, bempp_space, bempp_space)\n",
    "        slp_0 = bempp.api.operators.boundary.laplace.single_layer(bempp_space, bempp_space, bempp_space)\n",
    "\n",
    "        dlp = bempp.api.operators.boundary.modified_helmholtz.double_layer(trace_space, bempp_space, bempp_space, w)\n",
    "        slp = bempp.api.operators.boundary.modified_helmholtz.single_layer(bempp_space, bempp_space, bempp_space, w)\n",
    "\n",
    "    ######################### Matrix and RHS ##################################\n",
    "    \n",
    "    # RHS for FEM\n",
    "    rhs_fem = assemble_point_sources(fenics_space, PC, Q/em)\n",
    "        \n",
    "    # RHS for BEM\n",
    "    rhs_bem = np.zeros(bempp_space.global_dof_count)\n",
    "    # Global RHS\n",
    "    rhs = np.concatenate([rhs_fem, rhs_bem])\n",
    "    \n",
    "    blocks = [[None,None],[None,None]]\n",
    "    \n",
    "    # FEM matrices\n",
    "    trace_op = LinearOperator(trace_matrix.shape, lambda x:trace_matrix*x)\n",
    "\n",
    "    A = fenicsx.FenicsOperator((ufl.inner(ufl.nabla_grad(u),\n",
    "                                     ufl.nabla_grad(v)) ) * ufl.dx)  \n",
    "        \n",
    "    # Blocked matrix\n",
    "    blocks[0][0] = A.weak_form()\n",
    "    blocks[0][1] = -trace_matrix.T * mass.weak_form().to_sparse()\n",
    "    blocks[1][0] = (.5 * id_op - dlp).weak_form() * trace_op\n",
    "    blocks[1][1] = slp.weak_form()*(em/es)\n",
    "\n",
    "    blocked = BlockedDiscreteOperator(np.array(blocks))\n",
    "    \n",
    "    ######################### Preconditioner and solvers ##################################\n",
    "    from scipy.sparse import diags\n",
    "    \n",
    "    # Diagonal Scaling #\n",
    "    P1 = diags(1./blocked[0,0].to_sparse().diagonal())\n",
    "\n",
    "    # Mass matrix preconditioner #\n",
    "    P2 = InverseSparseDiscreteBoundaryOperator(\n",
    "        bempp.api.operators.boundary.sparse.identity(\n",
    "            bempp_space, bempp_space, bempp_space).weak_form())\n",
    "\n",
    "    # Create a block diagonal preconditioner object using the Scipy LinearOperator class\n",
    "    def apply_prec(x):\n",
    "        \"\"\"Apply the block diagonal preconditioner\"\"\"\n",
    "        m1 = P1.shape[0]\n",
    "        m2 = P2.shape[0]\n",
    "        n1 = P1.shape[1]\n",
    "        n2 = P2.shape[1]\n",
    "\n",
    "        res1 = P1.dot(x[:n1]) \n",
    "        res2 = P2.dot(x[n1:])\n",
    "        return np.concatenate([res1, res2])\n",
    "\n",
    "    p_shape = (P1.shape[0] + P2.shape[0], P1.shape[1] + P2.shape[1])\n",
    "    P = LinearOperator(p_shape, apply_prec, dtype=np.dtype('float64'))\n",
    "        \n",
    "    end = time.time()\n",
    "    set_time = (end - start) \n",
    "    \n",
    "\n",
    "    from scipy.sparse.linalg import gmres\n",
    "    start = time.time()     \n",
    "    soln, info = gmres(blocked, rhs, M=P, callback=count_iterations, tol=tol, restrt=500)  \n",
    "    end = time.time()\n",
    "    solv_time = (end - start) \n",
    "    \n",
    "    soln_fem = soln[:fem_size]\n",
    "    soln_bem = soln[fem_size:]\n",
    "    \n",
    "    u = dolfinx.fem.Function(fenics_space)\n",
    "    u.vector.setValues(list(range(0,fem_size)), np.ascontiguousarray(soln_fem))\n",
    "    dirichlet_data = trace_matrix * soln_fem\n",
    "    dirichlet_fun = bempp.api.GridFunction(trace_space, coefficients=dirichlet_data)\n",
    "    neumann_fun = bempp.api.GridFunction(bempp_space, coefficients=soln_bem)\n",
    "    \n",
    "    ######################### Solvation energy ##################################\n",
    "    \n",
    "    slpF = bempp.api.operators.potential.laplace.single_layer(bempp_space, np.transpose(PC)) \n",
    "    dlpF = bempp.api.operators.potential.laplace.double_layer(trace_space, np.transpose(PC))\n",
    "\n",
    "    uF = slpF * neumann_fun - dlpF * dirichlet_fun\n",
    "\n",
    "    q_uF = 0\n",
    "    for i in range(len(PC)):\n",
    "        Sum = (uF[0][i].real)*Q[i]\n",
    "        q_uF = q_uF + Sum\n",
    "\n",
    "    E_Solv = 0.5*4.*np.pi*332.064*(q_uF) \n",
    "    \n",
    "    print('Energia de Solvatacion : {:7.3f} [kCal/mol]'.format(E_Solv))\n",
    "    \n",
    "    return E_Solv, hmax, iter_num, set_time, solv_time"
   ]
  },
  {
   "cell_type": "code",
   "execution_count": 3,
   "metadata": {},
   "outputs": [
    {
     "name": "stdout",
     "output_type": "stream",
     "text": [
      "102ddna.pqr\n"
     ]
    },
    {
     "name": "stderr",
     "output_type": "stream",
     "text": [
      "INFO:bempp:Created grid with id a59319e7-1f2b-4e72-97a4-a58e5a9b40ff. Elements: 137020. Edges: 205530. Vertices: 68512\n"
     ]
    },
    {
     "name": "stdout",
     "output_type": "stream",
     "text": [
      "FEM dofs: 230022\n",
      "BEM dofs: 68512\n"
     ]
    },
    {
     "name": "stderr",
     "output_type": "stream",
     "text": [
      "INFO:bempp:OpenCL CPU Device set to: pthread-AMD Ryzen Threadripper PRO 3975WX 32-Cores\n",
      "66 warnings generated.\n",
      "WARNING:py.warnings:/usr/local/lib/python3.10/dist-packages/pyopencl/cache.py:417: CompilerWarning: Non-empty compiler output encountered. Set the environment variable PYOPENCL_COMPILER_OUTPUT=1 to see more.\n",
      "  prg.build(options_bytes, [devices[i] for i in to_be_built_indices])\n",
      "\n",
      "66 warnings generated.\n",
      "WARNING:py.warnings:/usr/local/lib/python3.10/dist-packages/pyopencl/cache.py:417: CompilerWarning: Non-empty compiler output encountered. Set the environment variable PYOPENCL_COMPILER_OUTPUT=1 to see more.\n",
      "  prg.build(options_bytes, [devices[i] for i in to_be_built_indices])\n",
      "\n",
      "66 warnings generated.\n",
      "WARNING:py.warnings:/usr/local/lib/python3.10/dist-packages/scipy/sparse/linalg/_dsolve/linsolve.py:394: SparseEfficiencyWarning: splu converted its input to CSC format\n",
      "  warn('splu converted its input to CSC format', SparseEfficiencyWarning)\n",
      "\n",
      "66 warnings generated.\n",
      "66 warnings generated.\n",
      "66 warnings generated.\n",
      "66 warnings generated.\n",
      "INFO:bempp:gmres finished in 215 iterations and took 1.74E+03 sec.\n"
     ]
    },
    {
     "name": "stdout",
     "output_type": "stream",
     "text": [
      "Energia de Solvatacion : -6236.301 [kCal/mol]\n",
      "Setup time:   537.9519\n",
      "Solve time:  1739.7157\n",
      "109ddna.pqr\n"
     ]
    },
    {
     "name": "stderr",
     "output_type": "stream",
     "text": [
      "INFO:bempp:Created grid with id 94911419-fe77-4228-82b2-f8a8414360fc. Elements: 136168. Edges: 204252. Vertices: 68086\n"
     ]
    },
    {
     "name": "stdout",
     "output_type": "stream",
     "text": [
      "FEM dofs: 228147\n",
      "BEM dofs: 68086\n"
     ]
    },
    {
     "name": "stderr",
     "output_type": "stream",
     "text": [
      "WARNING:py.warnings:/usr/local/lib/python3.10/dist-packages/pyopencl/cache.py:495: CompilerWarning: Non-empty compiler output encountered. Set the environment variable PYOPENCL_COMPILER_OUTPUT=1 to see more.\n",
      "  _create_built_program_from_source_cached(\n",
      "\n",
      "WARNING:py.warnings:/usr/local/lib/python3.10/dist-packages/pyopencl/cache.py:499: CompilerWarning: Non-empty compiler output encountered. Set the environment variable PYOPENCL_COMPILER_OUTPUT=1 to see more.\n",
      "  prg.build(options_bytes, devices)\n",
      "\n",
      "66 warnings generated.\n",
      "66 warnings generated.\n",
      "INFO:bempp:gmres finished in 209 iterations and took 1.72E+03 sec.\n"
     ]
    },
    {
     "name": "stdout",
     "output_type": "stream",
     "text": [
      "Energia de Solvatacion : -6320.860 [kCal/mol]\n",
      "Setup time:   532.9602\n",
      "Solve time:  1719.0556\n",
      "121ddna.pqr\n"
     ]
    },
    {
     "name": "stderr",
     "output_type": "stream",
     "text": [
      "INFO:bempp:Created grid with id 87d4402f-45c4-43cf-81f2-d636a1ce01e4. Elements: 138328. Edges: 207492. Vertices: 69166\n"
     ]
    },
    {
     "name": "stdout",
     "output_type": "stream",
     "text": [
      "FEM dofs: 231807\n",
      "BEM dofs: 69166\n"
     ]
    },
    {
     "name": "stderr",
     "output_type": "stream",
     "text": [
      "66 warnings generated.\n",
      "66 warnings generated.\n",
      "66 warnings generated.\n",
      "INFO:bempp:gmres finished in 201 iterations and took 1.66E+03 sec.\n"
     ]
    },
    {
     "name": "stdout",
     "output_type": "stream",
     "text": [
      "Energia de Solvatacion : -6238.060 [kCal/mol]\n",
      "Setup time:   543.4584\n",
      "Solve time:  1655.5483\n",
      "127ddna.pqr\n"
     ]
    },
    {
     "name": "stderr",
     "output_type": "stream",
     "text": [
      "INFO:bempp:Created grid with id f1658ca2-a6f7-4eab-a1f2-1633ae2807e9. Elements: 137052. Edges: 205578. Vertices: 68528\n"
     ]
    },
    {
     "name": "stdout",
     "output_type": "stream",
     "text": [
      "FEM dofs: 228319\n",
      "BEM dofs: 68528\n"
     ]
    },
    {
     "name": "stderr",
     "output_type": "stream",
     "text": [
      "66 warnings generated.\n",
      "66 warnings generated.\n",
      "INFO:bempp:gmres finished in 204 iterations and took 1.65E+03 sec.\n"
     ]
    },
    {
     "name": "stdout",
     "output_type": "stream",
     "text": [
      "Energia de Solvatacion : -6193.390 [kCal/mol]\n",
      "Setup time:   528.1185\n",
      "Solve time:  1650.3924\n",
      "129ddna.pqr\n"
     ]
    },
    {
     "name": "stderr",
     "output_type": "stream",
     "text": [
      "INFO:bempp:Created grid with id 5069e98b-8fe6-4f8d-8fe6-f28cbdf13f1b. Elements: 137008. Edges: 205512. Vertices: 68506\n"
     ]
    },
    {
     "name": "stdout",
     "output_type": "stream",
     "text": [
      "FEM dofs: 229243\n",
      "BEM dofs: 68506\n"
     ]
    },
    {
     "name": "stderr",
     "output_type": "stream",
     "text": [
      "66 warnings generated.\n",
      "66 warnings generated.\n",
      "INFO:bempp:gmres finished in 228 iterations and took 1.79E+03 sec.\n"
     ]
    },
    {
     "name": "stdout",
     "output_type": "stream",
     "text": [
      "Energia de Solvatacion : -6203.150 [kCal/mol]\n",
      "Setup time:   541.2493\n",
      "Solve time:  1791.7324\n",
      "166ddna.pqr\n"
     ]
    },
    {
     "name": "stderr",
     "output_type": "stream",
     "text": [
      "INFO:bempp:Created grid with id 8d55cf02-0c76-45fa-93e1-12665b7b226c. Elements: 138352. Edges: 207528. Vertices: 69178\n"
     ]
    },
    {
     "name": "stdout",
     "output_type": "stream",
     "text": [
      "FEM dofs: 231623\n",
      "BEM dofs: 69178\n"
     ]
    },
    {
     "name": "stderr",
     "output_type": "stream",
     "text": [
      "66 warnings generated.\n",
      "66 warnings generated.\n",
      "INFO:bempp:gmres finished in 221 iterations and took 1.75E+03 sec.\n"
     ]
    },
    {
     "name": "stdout",
     "output_type": "stream",
     "text": [
      "Energia de Solvatacion : -6207.555 [kCal/mol]\n",
      "Setup time:   529.1626\n",
      "Solve time:  1753.0428\n",
      "195ddna.pqr\n"
     ]
    },
    {
     "name": "stderr",
     "output_type": "stream",
     "text": [
      "INFO:bempp:Created grid with id 9c8d5425-82ef-47aa-89f6-06bd7098cb1f. Elements: 139140. Edges: 208710. Vertices: 69572\n"
     ]
    },
    {
     "name": "stdout",
     "output_type": "stream",
     "text": [
      "FEM dofs: 232666\n",
      "BEM dofs: 69572\n"
     ]
    },
    {
     "name": "stderr",
     "output_type": "stream",
     "text": [
      "66 warnings generated.\n",
      "66 warnings generated.\n",
      "INFO:bempp:gmres finished in 216 iterations and took 1.65E+03 sec.\n"
     ]
    },
    {
     "name": "stdout",
     "output_type": "stream",
     "text": [
      "Energia de Solvatacion : -6200.666 [kCal/mol]\n",
      "Setup time:   524.9920\n",
      "Solve time:  1650.7735\n",
      "1d30dna.pqr\n"
     ]
    },
    {
     "name": "stderr",
     "output_type": "stream",
     "text": [
      "INFO:bempp:Created grid with id 25b87f38-9a02-43ae-b864-c0940cb461db. Elements: 138148. Edges: 207222. Vertices: 69076\n"
     ]
    },
    {
     "name": "stdout",
     "output_type": "stream",
     "text": [
      "FEM dofs: 230739\n",
      "BEM dofs: 69076\n"
     ]
    },
    {
     "name": "stderr",
     "output_type": "stream",
     "text": [
      "66 warnings generated.\n",
      "66 warnings generated.\n",
      "INFO:bempp:gmres finished in 200 iterations and took 1.58E+03 sec.\n"
     ]
    },
    {
     "name": "stdout",
     "output_type": "stream",
     "text": [
      "Energia de Solvatacion : -6183.230 [kCal/mol]\n",
      "Setup time:   537.1562\n",
      "Solve time:  1583.7345\n",
      "1d63dna.pqr\n"
     ]
    },
    {
     "name": "stderr",
     "output_type": "stream",
     "text": [
      "INFO:bempp:Created grid with id 30350ad7-cb54-4737-b941-dcf51523f6ab. Elements: 137924. Edges: 206886. Vertices: 68964\n"
     ]
    },
    {
     "name": "stdout",
     "output_type": "stream",
     "text": [
      "FEM dofs: 231548\n",
      "BEM dofs: 68964\n"
     ]
    },
    {
     "name": "stderr",
     "output_type": "stream",
     "text": [
      "66 warnings generated.\n",
      "66 warnings generated.\n",
      "INFO:bempp:gmres finished in 207 iterations and took 1.64E+03 sec.\n"
     ]
    },
    {
     "name": "stdout",
     "output_type": "stream",
     "text": [
      "Energia de Solvatacion : -6207.379 [kCal/mol]\n",
      "Setup time:   526.7437\n",
      "Solve time:  1640.1042\n",
      "1d64dna.pqr\n"
     ]
    },
    {
     "name": "stderr",
     "output_type": "stream",
     "text": [
      "INFO:bempp:Created grid with id 2b34e98e-1bf4-4a7b-8fcb-2f88a5f30240. Elements: 139072. Edges: 208608. Vertices: 69538\n"
     ]
    },
    {
     "name": "stdout",
     "output_type": "stream",
     "text": [
      "FEM dofs: 233770\n",
      "BEM dofs: 69538\n"
     ]
    },
    {
     "name": "stderr",
     "output_type": "stream",
     "text": [
      "66 warnings generated.\n",
      "66 warnings generated.\n",
      "INFO:bempp:gmres finished in 211 iterations and took 1.72E+03 sec.\n"
     ]
    },
    {
     "name": "stdout",
     "output_type": "stream",
     "text": [
      "Energia de Solvatacion : -6189.614 [kCal/mol]\n",
      "Setup time:   526.0266\n",
      "Solve time:  1716.6004\n",
      "1d86dna.pqr\n"
     ]
    },
    {
     "name": "stderr",
     "output_type": "stream",
     "text": [
      "INFO:bempp:Created grid with id 14001968-9f4d-4845-b1c7-d0133c09dcf8. Elements: 137332. Edges: 205998. Vertices: 68668\n"
     ]
    },
    {
     "name": "stdout",
     "output_type": "stream",
     "text": [
      "FEM dofs: 229503\n",
      "BEM dofs: 68668\n"
     ]
    },
    {
     "name": "stderr",
     "output_type": "stream",
     "text": [
      "66 warnings generated.\n",
      "66 warnings generated.\n",
      "INFO:bempp:gmres finished in 205 iterations and took 1.67E+03 sec.\n"
     ]
    },
    {
     "name": "stdout",
     "output_type": "stream",
     "text": [
      "Energia de Solvatacion : -6243.722 [kCal/mol]\n",
      "Setup time:   539.0863\n",
      "Solve time:  1672.0145\n",
      "1dnedna.pqr\n"
     ]
    },
    {
     "name": "stderr",
     "output_type": "stream",
     "text": [
      "INFO:bempp:Created grid with id a81d8fb6-6d2d-4f1d-9a12-2415cedf42f5. Elements: 138916. Edges: 208374. Vertices: 69460\n"
     ]
    },
    {
     "name": "stdout",
     "output_type": "stream",
     "text": [
      "FEM dofs: 232672\n",
      "BEM dofs: 69460\n"
     ]
    },
    {
     "name": "stderr",
     "output_type": "stream",
     "text": [
      "INFO:bempp:gmres finished in 219 iterations and took 1.77E+03 sec.\n"
     ]
    },
    {
     "name": "stdout",
     "output_type": "stream",
     "text": [
      "Energia de Solvatacion : -6211.078 [kCal/mol]\n",
      "Setup time:   543.3061\n",
      "Solve time:  1774.0893\n",
      "1eeldna.pqr\n"
     ]
    },
    {
     "name": "stderr",
     "output_type": "stream",
     "text": [
      "INFO:bempp:Created grid with id 0f90197b-ba45-4658-bf63-455f2f711192. Elements: 138224. Edges: 207336. Vertices: 69114\n"
     ]
    },
    {
     "name": "stdout",
     "output_type": "stream",
     "text": [
      "FEM dofs: 231798\n",
      "BEM dofs: 69114\n"
     ]
    },
    {
     "name": "stderr",
     "output_type": "stream",
     "text": [
      "INFO:bempp:gmres finished in 203 iterations and took 1.61E+03 sec.\n"
     ]
    },
    {
     "name": "stdout",
     "output_type": "stream",
     "text": [
      "Energia de Solvatacion : -6184.634 [kCal/mol]\n",
      "Setup time:   524.6767\n",
      "Solve time:  1611.1520\n",
      "1fmqdna.pqr\n"
     ]
    },
    {
     "name": "stderr",
     "output_type": "stream",
     "text": [
      "INFO:bempp:Created grid with id fba0a3c3-cf8a-4a91-b678-4cd7e93dc6a8. Elements: 138712. Edges: 208068. Vertices: 69358\n"
     ]
    },
    {
     "name": "stdout",
     "output_type": "stream",
     "text": [
      "FEM dofs: 232228\n",
      "BEM dofs: 69358\n"
     ]
    },
    {
     "name": "stderr",
     "output_type": "stream",
     "text": [
      "INFO:bempp:gmres finished in 226 iterations and took 1.80E+03 sec.\n"
     ]
    },
    {
     "name": "stdout",
     "output_type": "stream",
     "text": [
      "Energia de Solvatacion : -6165.049 [kCal/mol]\n",
      "Setup time:   542.8094\n",
      "Solve time:  1795.0899\n",
      "1fmsdna.pqr\n"
     ]
    },
    {
     "name": "stderr",
     "output_type": "stream",
     "text": [
      "INFO:bempp:Created grid with id 6f07cc8c-03c5-4399-87a4-414e6342923b. Elements: 137756. Edges: 206634. Vertices: 68880\n"
     ]
    },
    {
     "name": "stdout",
     "output_type": "stream",
     "text": [
      "FEM dofs: 230691\n",
      "BEM dofs: 68880\n"
     ]
    },
    {
     "name": "stderr",
     "output_type": "stream",
     "text": [
      "66 warnings generated.\n",
      "66 warnings generated.\n",
      "INFO:bempp:gmres finished in 203 iterations and took 1.68E+03 sec.\n"
     ]
    },
    {
     "name": "stdout",
     "output_type": "stream",
     "text": [
      "Energia de Solvatacion : -6212.316 [kCal/mol]\n",
      "Setup time:   524.3833\n",
      "Solve time:  1677.9891\n",
      "1jtldna.pqr\n"
     ]
    },
    {
     "name": "stderr",
     "output_type": "stream",
     "text": [
      "INFO:bempp:Created grid with id 925a8bfa-89f2-456b-89ba-1696f143210d. Elements: 125084. Edges: 187626. Vertices: 62544\n"
     ]
    },
    {
     "name": "stdout",
     "output_type": "stream",
     "text": [
      "FEM dofs: 206442\n",
      "BEM dofs: 62544\n"
     ]
    },
    {
     "name": "stderr",
     "output_type": "stream",
     "text": [
      "INFO:bempp:gmres finished in 217 iterations and took 1.76E+03 sec.\n"
     ]
    },
    {
     "name": "stdout",
     "output_type": "stream",
     "text": [
      "Energia de Solvatacion : -4562.728 [kCal/mol]\n",
      "Setup time:   405.0073\n",
      "Solve time:  1763.1544\n",
      "1lexdna.pqr\n"
     ]
    },
    {
     "name": "stderr",
     "output_type": "stream",
     "text": [
      "INFO:bempp:Created grid with id 7f603114-b4c9-434d-be79-939b46baef5b. Elements: 137872. Edges: 206808. Vertices: 68938\n"
     ]
    },
    {
     "name": "stdout",
     "output_type": "stream",
     "text": [
      "FEM dofs: 231461\n",
      "BEM dofs: 68938\n"
     ]
    },
    {
     "name": "stderr",
     "output_type": "stream",
     "text": [
      "66 warnings generated.\n",
      "66 warnings generated.\n",
      "66 warnings generated.\n",
      "INFO:bempp:gmres finished in 204 iterations and took 1.67E+03 sec.\n"
     ]
    },
    {
     "name": "stdout",
     "output_type": "stream",
     "text": [
      "Energia de Solvatacion : -6212.515 [kCal/mol]\n",
      "Setup time:   539.0720\n",
      "Solve time:  1672.6040\n",
      "1prpdna.pqr\n"
     ]
    },
    {
     "name": "stderr",
     "output_type": "stream",
     "text": [
      "INFO:bempp:Created grid with id 3c5d1694-7ae7-40df-9ada-d123e401c1f4. Elements: 138908. Edges: 208362. Vertices: 69456\n"
     ]
    },
    {
     "name": "stdout",
     "output_type": "stream",
     "text": [
      "FEM dofs: 232892\n",
      "BEM dofs: 69456\n"
     ]
    },
    {
     "name": "stderr",
     "output_type": "stream",
     "text": [
      "INFO:bempp:gmres finished in 206 iterations and took 1.65E+03 sec.\n"
     ]
    },
    {
     "name": "stdout",
     "output_type": "stream",
     "text": [
      "Energia de Solvatacion : -6219.931 [kCal/mol]\n",
      "Setup time:   544.1006\n",
      "Solve time:  1650.3997\n",
      "227ddna.pqr\n"
     ]
    },
    {
     "name": "stderr",
     "output_type": "stream",
     "text": [
      "INFO:bempp:Created grid with id ab169ceb-f612-44e4-9ad4-172809c04d7f. Elements: 136972. Edges: 205458. Vertices: 68488\n"
     ]
    },
    {
     "name": "stdout",
     "output_type": "stream",
     "text": [
      "FEM dofs: 229717\n",
      "BEM dofs: 68488\n"
     ]
    },
    {
     "name": "stderr",
     "output_type": "stream",
     "text": [
      "66 warnings generated.\n",
      "66 warnings generated.\n",
      "INFO:bempp:gmres finished in 206 iterations and took 1.60E+03 sec.\n"
     ]
    },
    {
     "name": "stdout",
     "output_type": "stream",
     "text": [
      "Energia de Solvatacion : -6213.643 [kCal/mol]\n",
      "Setup time:   517.8016\n",
      "Solve time:  1601.0952\n",
      "261ddna.pqr\n"
     ]
    },
    {
     "name": "stderr",
     "output_type": "stream",
     "text": [
      "INFO:bempp:Created grid with id 8836d2c6-b10f-45df-8370-9285ca7edbb9. Elements: 112376. Edges: 168564. Vertices: 56190\n"
     ]
    },
    {
     "name": "stdout",
     "output_type": "stream",
     "text": [
      "FEM dofs: 186525\n",
      "BEM dofs: 56190\n"
     ]
    },
    {
     "name": "stderr",
     "output_type": "stream",
     "text": [
      "66 warnings generated.\n",
      "66 warnings generated.\n",
      "INFO:bempp:gmres finished in 206 iterations and took 1.60E+03 sec.\n"
     ]
    },
    {
     "name": "stdout",
     "output_type": "stream",
     "text": [
      "Energia de Solvatacion : -4265.213 [kCal/mol]\n",
      "Setup time:   336.7498\n",
      "Solve time:  1603.3629\n",
      "264ddna.pqr\n"
     ]
    },
    {
     "name": "stderr",
     "output_type": "stream",
     "text": [
      "INFO:bempp:Created grid with id 6ef28a4c-6e51-422c-9d7a-58e41f012816. Elements: 137768. Edges: 206652. Vertices: 68886\n"
     ]
    },
    {
     "name": "stdout",
     "output_type": "stream",
     "text": [
      "FEM dofs: 230408\n",
      "BEM dofs: 68886\n"
     ]
    },
    {
     "name": "stderr",
     "output_type": "stream",
     "text": [
      "66 warnings generated.\n",
      "66 warnings generated.\n",
      "INFO:bempp:gmres finished in 204 iterations and took 1.64E+03 sec.\n"
     ]
    },
    {
     "name": "stdout",
     "output_type": "stream",
     "text": [
      "Energia de Solvatacion : -6223.237 [kCal/mol]\n",
      "Setup time:   528.9811\n",
      "Solve time:  1640.5392\n",
      "289ddna.pqr\n"
     ]
    },
    {
     "name": "stderr",
     "output_type": "stream",
     "text": [
      "INFO:bempp:Created grid with id 759dabad-0b46-438d-b37a-af373588715a. Elements: 138188. Edges: 207282. Vertices: 69096\n"
     ]
    },
    {
     "name": "stdout",
     "output_type": "stream",
     "text": [
      "FEM dofs: 230805\n",
      "BEM dofs: 69096\n"
     ]
    },
    {
     "name": "stderr",
     "output_type": "stream",
     "text": [
      "66 warnings generated.\n",
      "66 warnings generated.\n",
      "INFO:bempp:gmres finished in 203 iterations and took 1.73E+03 sec.\n"
     ]
    },
    {
     "name": "stdout",
     "output_type": "stream",
     "text": [
      "Energia de Solvatacion : -6190.757 [kCal/mol]\n",
      "Setup time:   525.6048\n",
      "Solve time:  1725.4320\n",
      "298ddna.pqr\n"
     ]
    },
    {
     "name": "stderr",
     "output_type": "stream",
     "text": [
      "INFO:bempp:Created grid with id 09195840-fb1a-442e-9605-4bedb6dc6c92. Elements: 138104. Edges: 207156. Vertices: 69054\n"
     ]
    },
    {
     "name": "stdout",
     "output_type": "stream",
     "text": [
      "FEM dofs: 231174\n",
      "BEM dofs: 69054\n"
     ]
    },
    {
     "name": "stderr",
     "output_type": "stream",
     "text": [
      "INFO:bempp:gmres finished in 203 iterations and took 1.71E+03 sec.\n"
     ]
    },
    {
     "name": "stdout",
     "output_type": "stream",
     "text": [
      "Energia de Solvatacion : -6182.661 [kCal/mol]\n",
      "Setup time:   545.8618\n",
      "Solve time:  1707.2236\n",
      "2dbedna.pqr\n"
     ]
    },
    {
     "name": "stderr",
     "output_type": "stream",
     "text": [
      "INFO:bempp:Created grid with id b720e86e-2221-491f-949b-2fd72a0a12e1. Elements: 137584. Edges: 206376. Vertices: 68794\n"
     ]
    },
    {
     "name": "stdout",
     "output_type": "stream",
     "text": [
      "FEM dofs: 231279\n",
      "BEM dofs: 68794\n"
     ]
    },
    {
     "name": "stderr",
     "output_type": "stream",
     "text": [
      "INFO:bempp:gmres finished in 230 iterations and took 1.86E+03 sec.\n"
     ]
    },
    {
     "name": "stdout",
     "output_type": "stream",
     "text": [
      "Energia de Solvatacion : -6220.928 [kCal/mol]\n",
      "Setup time:   541.8776\n",
      "Solve time:  1857.9559\n",
      "302ddna.pqr\n"
     ]
    },
    {
     "name": "stderr",
     "output_type": "stream",
     "text": [
      "INFO:bempp:Created grid with id a0e80528-d93a-44fd-9428-38fbfb718520. Elements: 138388. Edges: 207582. Vertices: 69196\n"
     ]
    },
    {
     "name": "stdout",
     "output_type": "stream",
     "text": [
      "FEM dofs: 230832\n",
      "BEM dofs: 69196\n"
     ]
    },
    {
     "name": "stderr",
     "output_type": "stream",
     "text": [
      "66 warnings generated.\n",
      "66 warnings generated.\n",
      "INFO:bempp:gmres finished in 203 iterations and took 1.79E+03 sec.\n"
     ]
    },
    {
     "name": "stdout",
     "output_type": "stream",
     "text": [
      "Energia de Solvatacion : -6198.772 [kCal/mol]\n",
      "Setup time:   523.7588\n",
      "Solve time:  1788.4553\n",
      "311ddna.pqr\n"
     ]
    },
    {
     "name": "stderr",
     "output_type": "stream",
     "text": [
      "INFO:bempp:Created grid with id 142c03aa-a32e-45c8-ba15-04069c5cc99f. Elements: 136160. Edges: 204240. Vertices: 68082\n"
     ]
    },
    {
     "name": "stdout",
     "output_type": "stream",
     "text": [
      "FEM dofs: 227643\n",
      "BEM dofs: 68082\n"
     ]
    },
    {
     "name": "stderr",
     "output_type": "stream",
     "text": [
      "66 warnings generated.\n",
      "66 warnings generated.\n",
      "INFO:bempp:gmres finished in 210 iterations and took 1.82E+03 sec.\n"
     ]
    },
    {
     "name": "stdout",
     "output_type": "stream",
     "text": [
      "Energia de Solvatacion : -6213.178 [kCal/mol]\n",
      "Setup time:   529.6586\n",
      "Solve time:  1822.2644\n",
      "328ddna.pqr\n"
     ]
    },
    {
     "name": "stderr",
     "output_type": "stream",
     "text": [
      "INFO:bempp:Created grid with id 95fd6a96-9395-4190-92df-e9ea795cf0a2. Elements: 137892. Edges: 206838. Vertices: 68948\n"
     ]
    },
    {
     "name": "stdout",
     "output_type": "stream",
     "text": [
      "FEM dofs: 231551\n",
      "BEM dofs: 68948\n"
     ]
    },
    {
     "name": "stderr",
     "output_type": "stream",
     "text": [
      "INFO:bempp:gmres finished in 211 iterations and took 1.87E+03 sec.\n"
     ]
    },
    {
     "name": "stdout",
     "output_type": "stream",
     "text": [
      "Energia de Solvatacion : -6211.669 [kCal/mol]\n",
      "Setup time:   538.1762\n",
      "Solve time:  1867.6053\n",
      "360ddna.pqr\n"
     ]
    },
    {
     "name": "stderr",
     "output_type": "stream",
     "text": [
      "INFO:bempp:Created grid with id 7be7caf4-032d-412f-82d5-821315c9d9d3. Elements: 137892. Edges: 206838. Vertices: 68948\n"
     ]
    },
    {
     "name": "stdout",
     "output_type": "stream",
     "text": [
      "FEM dofs: 231551\n",
      "BEM dofs: 68948\n"
     ]
    },
    {
     "name": "stderr",
     "output_type": "stream",
     "text": [
      "INFO:bempp:gmres finished in 211 iterations and took 1.73E+03 sec.\n"
     ]
    },
    {
     "name": "stdout",
     "output_type": "stream",
     "text": [
      "Energia de Solvatacion : -6211.669 [kCal/mol]\n",
      "Setup time:   541.1241\n",
      "Solve time:  1726.1883\n"
     ]
    }
   ],
   "source": [
    "import dolfinx\n",
    "import dolfinx.io\n",
    "import dolfinx.geometry\n",
    "from petsc4py import PETSc\n",
    "import ufl\n",
    "from scipy.sparse import csr_matrix\n",
    "\n",
    "import bempp.api\n",
    "from bempp.api.external import fenicsx\n",
    "import numpy as np\n",
    "import pylab as plt\n",
    "import time\n",
    "\n",
    "from scipy.sparse.linalg import gmres\n",
    "from scipy.sparse.linalg import LinearOperator\n",
    "from bempp.api.assembly.discrete_boundary_operator import InverseSparseDiscreteBoundaryOperator\n",
    "from bempp.api.assembly.blocked_operator import BlockedDiscreteOperator\n",
    "\n",
    "from bempp.api.operators.boundary import sparse, laplace, modified_helmholtz\n",
    "from bempp.api.operators.potential import laplace as lp\n",
    "\n",
    "bempp.api.set_logging_level(level='info')\n",
    " \n",
    "# Solver data #\n",
    "tol = 1e-05         # Tolerance\n",
    "fmm = 1             # Use FMM\n",
    "\n",
    "# Problem data #\n",
    "from readpqr_all import readpqr_all\n",
    "w = 0.10265                                            # kappa\n",
    "es = 80.                                               # External permitivity (solvant)\n",
    "em = 1.                                                # Internal permitivity (molecule)\n",
    "\n",
    "ec = 1.602176e-19 #[C]\n",
    "kb = 1.380648e-23 #[J/K]\n",
    "T  = 298 #[K]\n",
    "S1 = 1 #(ec/(kb*T))  #38.681 [C/J]\n",
    "\n",
    "# Result collecting lists #\n",
    "solv_error = []\n",
    "mesh_size = []\n",
    "iter_num = []\n",
    "time_solve = []\n",
    "time_set = []\n",
    "\n",
    "# Iteratotion for mesh #\n",
    "grid = ['1a1t', '1biv', '1exy', '1g70', '1hji', '1i9f', '1mnb', '1nyb', '1qfq', '1ull', '1zbn', '2a9x', '484d']\n",
    "\n",
    "it_count = 0\n",
    "def count_iterations(x):\n",
    "    global it_count\n",
    "    it_count += 1\n",
    "\n",
    "for m in grid:\n",
    "    print(m+'_protein')\n",
    "    ######################### Mesh and spaces ##################################\n",
    "    [PC, Q, R] = readpqr_all('./data-set3/'+m+'_protein.pqr')         # Charges, Points of charges and Radiuses\n",
    "    mesh_file = \"./data-set3/\"+m+\"_protein-converted.xdmf\"\n",
    "    with dolfinx.io.XDMFFile(MPI.COMM_WORLD, mesh_file, \"r\") as xdmf:\n",
    "        mesh = xdmf.read_mesh(name=\"Grid\")\n",
    "        it_count = 0\n",
    "        E_Solv, hmax, iter_num, set_time, solv_time = poisson_boltzman_jn_const(mesh)\n",
    "        time_set.append(set_time)\n",
    "        print(\"Setup time: {:10.4f}\".format(set_time)) \n",
    "        time_solve.append(solv_time)   \n",
    "        print(\"Solve time: {:10.4f}\".format(solv_time)) \n",
    "        bempp.api.log(\n",
    "            \"gmres finished in %i iterations and took %.2E sec.\" % (it_count, solv_time))\n",
    "        # print(\"Number of iterations: {0}\".format(it_count))\n",
    "        iter_num.append(it_count)\n",
    "        mesh_size.append(hmax)   \n",
    "        \n",
    "        #### Just saving the solution\n",
    "        solv_error.append(E_Solv)  "
   ]
  },
  {
   "cell_type": "code",
   "execution_count": null,
   "metadata": {},
   "outputs": [],
   "source": []
  },
  {
   "cell_type": "code",
   "execution_count": null,
   "metadata": {},
   "outputs": [],
   "source": []
  },
  {
   "cell_type": "code",
   "execution_count": null,
   "metadata": {},
   "outputs": [],
   "source": []
  },
  {
   "cell_type": "code",
   "execution_count": null,
   "metadata": {},
   "outputs": [],
   "source": []
  },
  {
   "cell_type": "code",
   "execution_count": null,
   "metadata": {},
   "outputs": [],
   "source": []
  }
 ],
 "metadata": {
  "kernelspec": {
   "display_name": "Python 3 (ipykernel)",
   "language": "python",
   "name": "python3"
  },
  "language_info": {
   "codemirror_mode": {
    "name": "ipython",
    "version": 3
   },
   "file_extension": ".py",
   "mimetype": "text/x-python",
   "name": "python",
   "nbconvert_exporter": "python",
   "pygments_lexer": "ipython3",
   "version": "3.10.6"
  }
 },
 "nbformat": 4,
 "nbformat_minor": 4
}
