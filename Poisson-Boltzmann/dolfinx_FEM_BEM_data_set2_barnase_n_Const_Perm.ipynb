{
 "cells": [
  {
   "cell_type": "markdown",
   "metadata": {},
   "source": [
    "# FEM-BEM coupling of Poisson-Boltzmann - spherical domain"
   ]
  },
  {
   "cell_type": "code",
   "execution_count": 1,
   "metadata": {},
   "outputs": [],
   "source": [
    "import numpy as np\n",
    "from mpi4py import MPI\n",
    "from dolfinx.fem import FunctionSpace\n",
    "from dolfinx.mesh import create_unit_square, create_unit_cube\n",
    "from dolfinx.geometry import (compute_colliding_cells,\n",
    "                              compute_collisions_points)\n",
    "\n",
    "def get_local_coordinates(vertices, point):\n",
    "    \"\"\"Get the local coordinates of the point in the cell.\"\"\"\n",
    "    origin = vertices[0]\n",
    "    axes = [v - origin for v in vertices[1:]]\n",
    "    tdim = 3\n",
    "    if len(axes) == 2:\n",
    "        axes.append(np.cross(axes[0], axes[1]))\n",
    "        tdim = 2\n",
    "\n",
    "    assert len(axes) == 3\n",
    "\n",
    "\n",
    "    return np.linalg.solve(np.array(axes).T, point - origin)[:tdim]\n",
    "\n",
    "\n",
    "def assemble_point_sources(space, points, weights):\n",
    "    vector = np.zeros(space.dofmap.index_map.size_global)\n",
    "\n",
    "    mesh = space.mesh\n",
    "    for point, weight in zip(points, weights):\n",
    "        # Get cell\n",
    "        tree = dolfinx.geometry.bb_tree(mesh, mesh.geometry.dim)\n",
    "        cell_candidates = compute_collisions_points(tree, point)\n",
    "        # This gets the first cell. Would it be better to put a fraction of the delta function into each cell instead?\n",
    "        cell = compute_colliding_cells(mesh, cell_candidates, point)[0]\n",
    "\n",
    "        # Get local coordinates\n",
    "        # Note: this currently only works for affine triangles and tetrahedra\n",
    "        v = [mesh.geometry.x[i] for i in mesh.geometry.dofmap[cell]]\n",
    "        local_coordinates = get_local_coordinates(v, point)\n",
    "\n",
    "        # Note: this currently only works for scalar-valued elements that use an identity push forward map\n",
    "        values = space.element.basix_element.tabulate(0, [local_coordinates])[0, 0, :, 0]\n",
    "        dofs = space.dofmap.cell_dofs(cell)\n",
    "\n",
    "        for d, v in zip(dofs, values):\n",
    "            vector[d] += v * weight\n",
    "\n",
    "    return vector\n",
    "\n",
    "\n",
    "def test_point_sources_triangle():\n",
    "    points = np.array([(1/4, 1/6, 0), (1/10, 6/10, 0)])\n",
    "\n",
    "    mesh = create_unit_square(MPI.COMM_WORLD, 2, 2)\n",
    "    space = FunctionSpace(mesh, (\"Lagrange\", 1))\n",
    "\n",
    "    vector = assemble_point_sources(space, points, [1, 1])\n",
    "\n",
    "    a = [i for i in vector]\n",
    "    a.sort()\n",
    "    assert np.isclose(a[-1], 4/5)\n",
    "    assert np.isclose(a[-2], 1/2)\n",
    "    assert np.isclose(a[-3], 1/3)\n",
    "    assert np.isclose(a[-4], 1/5)\n",
    "    assert np.isclose(a[-5], 1/6)\n",
    "    assert np.isclose(a[-6], 0)\n",
    "    assert np.isclose(a[0], 0)\n",
    "\n",
    "    vector = assemble_point_sources(space, points, [2, 1])\n",
    "\n",
    "    a = [i for i in vector]\n",
    "    a.sort()\n",
    "    assert np.isclose(a[-1], 1)\n",
    "    assert np.isclose(a[-2], 4/5)\n",
    "    assert np.isclose(a[-3], 2/3)\n",
    "    assert np.isclose(a[-4], 1/3)\n",
    "    assert np.isclose(a[-5], 1/5)\n",
    "    assert np.isclose(a[-6], 0)\n",
    "    assert np.isclose(a[0], 0)\n",
    "\n",
    "\n",
    "def test_point_sources_tetrahedron():\n",
    "    points = np.array([(1/4, 1/6, 0), (1/2, 1/2, 15/16)])\n",
    "\n",
    "    mesh = create_unit_cube(MPI.COMM_WORLD, 2, 2, 2)\n",
    "    space = FunctionSpace(mesh, (\"Lagrange\", 1))\n",
    "\n",
    "    vector = assemble_point_sources(space, points, [1, 1])\n",
    "\n",
    "    a = [i for i in vector]\n",
    "    a.sort()\n",
    "    assert np.isclose(a[-1], 7/8)\n",
    "    assert np.isclose(a[-2], 1/2)\n",
    "    assert np.isclose(a[-3], 1/3)\n",
    "    assert np.isclose(a[-4], 1/6)\n",
    "    assert np.isclose(a[-5], 1/8)\n",
    "    assert np.isclose(a[-6], 0)\n",
    "    assert np.isclose(a[0], 0)\n",
    "\n",
    "\n",
    "    mesh = create_unit_cube(MPI.COMM_WORLD, 2, 2, 2)\n",
    "    space = FunctionSpace(mesh, (\"Lagrange\", 1))\n",
    "\n",
    "    vector = assemble_point_sources(space, points, [2, 1])\n",
    "\n",
    "    a = [i for i in vector]\n",
    "    a.sort()\n",
    "    assert np.isclose(a[-1], 1)\n",
    "    assert np.isclose(a[-2], 7/8)\n",
    "    assert np.isclose(a[-3], 2/3)\n",
    "    assert np.isclose(a[-4], 1/3)\n",
    "    assert np.isclose(a[-5], 1/8)\n",
    "    assert np.isclose(a[-6], 0)\n",
    "    assert np.isclose(a[0], 0)"
   ]
  },
  {
   "cell_type": "markdown",
   "metadata": {},
   "source": [
    "## Solving problems for each of the mesh"
   ]
  },
  {
   "cell_type": "code",
   "execution_count": 2,
   "metadata": {},
   "outputs": [],
   "source": [
    "from mpi4py import MPI \n",
    "from dolfinx.mesh import create_unit_cube\n",
    "\n",
    "def poisson_boltzman_jn_const(mesh):\n",
    "    \n",
    "    nor = ufl.FacetNormal(mesh) \n",
    "    \n",
    "    # Spaces for FEM and BEM #\n",
    "    fenics_space = FunctionSpace(mesh, (\"Lagrange\", 1))\n",
    "    trace_space, trace_matrix = \\\n",
    "    fenicsx.fenics_to_bempp_trace_data(fenics_space)\n",
    "    bempp_space = bempp.api.function_space(trace_space.grid, \"P\", 1)\n",
    "\n",
    "    # Mesh size information #\n",
    "    fem_size = fenics_space.dofmap.index_map.size_global\n",
    "    print(\"FEM dofs: {0}\".format(fem_size))\n",
    "    print(\"BEM dofs: {0}\".format(bempp_space.global_dof_count))\n",
    "    hmax = trace_space.grid.maximum_element_diameter\n",
    "    \n",
    "    # Starting set-up time\n",
    "    start = time.time()     \n",
    "    \n",
    "    # FEM discrete variables\n",
    "    u = ufl.TrialFunction(fenics_space)\n",
    "    v = ufl.TestFunction(fenics_space)\n",
    "        \n",
    "    # BEM operators\n",
    "    id_op = bempp.api.operators.boundary.sparse.identity(trace_space, bempp_space, bempp_space)\n",
    "    mass = bempp.api.operators.boundary.sparse.identity(bempp_space, bempp_space, trace_space)\n",
    "    \n",
    "    if fmm:\n",
    "        dlp_0 = bempp.api.operators.boundary.laplace.double_layer(trace_space, bempp_space, bempp_space, assembler=\"fmm\")\n",
    "        slp_0 = bempp.api.operators.boundary.laplace.single_layer(bempp_space, bempp_space, bempp_space, assembler=\"fmm\")\n",
    "\n",
    "        dlp = bempp.api.operators.boundary.modified_helmholtz.double_layer(trace_space, bempp_space, bempp_space, w, assembler=\"fmm\")\n",
    "        slp = bempp.api.operators.boundary.modified_helmholtz.single_layer(bempp_space, bempp_space, bempp_space, w, assembler=\"fmm\")\n",
    "    else:\n",
    "        dlp_0 = bempp.api.operators.boundary.laplace.double_layer(trace_space, bempp_space, bempp_space)\n",
    "        slp_0 = bempp.api.operators.boundary.laplace.single_layer(bempp_space, bempp_space, bempp_space)\n",
    "\n",
    "        dlp = bempp.api.operators.boundary.modified_helmholtz.double_layer(trace_space, bempp_space, bempp_space, w)\n",
    "        slp = bempp.api.operators.boundary.modified_helmholtz.single_layer(bempp_space, bempp_space, bempp_space, w)\n",
    "\n",
    "    ######################### Matrix and RHS ##################################\n",
    "    \n",
    "    rhs_fem = assemble_point_sources(fenics_space, PC, Q/em)\n",
    "        \n",
    "    # RHS for BEM\n",
    "    rhs_bem = np.zeros(bempp_space.global_dof_count)\n",
    "    # Global RHS\n",
    "    rhs = np.concatenate([rhs_fem, rhs_bem])\n",
    "    \n",
    "    blocks = [[None,None],[None,None]]\n",
    "    \n",
    "    # FEM matrices\n",
    "    trace_op = LinearOperator(trace_matrix.shape, lambda x:trace_matrix*x)\n",
    "\n",
    "    A = fenicsx.FenicsOperator((ufl.inner(ufl.nabla_grad(u),\n",
    "                                     ufl.nabla_grad(v)) ) * ufl.dx)  \n",
    "        \n",
    "    # Blocked matrix\n",
    "    blocks[0][0] = A.weak_form()\n",
    "    blocks[0][1] = -trace_matrix.T * mass.weak_form().to_sparse()\n",
    "    blocks[1][0] = (.5 * id_op - dlp).weak_form() * trace_op\n",
    "    blocks[1][1] = slp.weak_form()*(em/es)\n",
    "\n",
    "    blocked = BlockedDiscreteOperator(np.array(blocks))\n",
    "    \n",
    "    ######################### Preconditioner and solvers ##################################\n",
    "    from scipy.sparse import diags\n",
    "    \n",
    "    # Diagonal Scaling #\n",
    "    P1 = diags(1./blocked[0,0].to_sparse().diagonal())\n",
    "\n",
    "    # Mass matrix preconditioner #\n",
    "    P2 = InverseSparseDiscreteBoundaryOperator(\n",
    "        bempp.api.operators.boundary.sparse.identity(\n",
    "            bempp_space, bempp_space, bempp_space).weak_form())\n",
    "\n",
    "    # Create a block diagonal preconditioner object using the Scipy LinearOperator class\n",
    "    def apply_prec(x):\n",
    "        \"\"\"Apply the block diagonal preconditioner\"\"\"\n",
    "        m1 = P1.shape[0]\n",
    "        m2 = P2.shape[0]\n",
    "        n1 = P1.shape[1]\n",
    "        n2 = P2.shape[1]\n",
    "\n",
    "        res1 = P1.dot(x[:n1]) \n",
    "        res2 = P2.dot(x[n1:])\n",
    "        return np.concatenate([res1, res2])\n",
    "\n",
    "    p_shape = (P1.shape[0] + P2.shape[0], P1.shape[1] + P2.shape[1])\n",
    "    P = LinearOperator(p_shape, apply_prec, dtype=np.dtype('float64'))\n",
    "        \n",
    "    end = time.time()\n",
    "    set_time = (end - start) \n",
    "    \n",
    "\n",
    "    from scipy.sparse.linalg import gmres\n",
    "    start = time.time()     \n",
    "    soln, info = gmres(blocked, rhs, M=P, callback=count_iterations, tol=tol, restrt=500)  \n",
    "    end = time.time()\n",
    "    solv_time = (end - start) \n",
    "    \n",
    "    soln_fem = soln[:fem_size]\n",
    "    soln_bem = soln[fem_size:]\n",
    "    \n",
    "    u = dolfinx.fem.Function(fenics_space)\n",
    "    u.vector.setValues(list(range(0,fem_size)), np.ascontiguousarray(soln_fem))\n",
    "    dirichlet_data = trace_matrix * soln_fem\n",
    "    dirichlet_fun = bempp.api.GridFunction(trace_space, coefficients=dirichlet_data)\n",
    "    neumann_fun = bempp.api.GridFunction(bempp_space, coefficients=soln_bem)\n",
    "    \n",
    "    ######################### Solvation energy ##################################\n",
    "    \n",
    "    slpF = bempp.api.operators.potential.laplace.single_layer(bempp_space, np.transpose(PC)) \n",
    "    dlpF = bempp.api.operators.potential.laplace.double_layer(trace_space, np.transpose(PC))\n",
    "\n",
    "    uF = slpF * neumann_fun - dlpF * dirichlet_fun\n",
    "\n",
    "    q_uF = 0\n",
    "    for i in range(len(PC)):\n",
    "        Sum = (uF[0][i].real)*Q[i]\n",
    "        q_uF = q_uF + Sum\n",
    "\n",
    "    E_Solv = 0.5*4.*np.pi*332.064*(q_uF) \n",
    "    \n",
    "    print('Energia de Solvatacion : {:7.3f} [kCal/mol]'.format(E_Solv))\n",
    "    \n",
    "    return E_Solv, hmax, iter_num, set_time, solv_time"
   ]
  },
  {
   "cell_type": "code",
   "execution_count": 3,
   "metadata": {},
   "outputs": [
    {
     "name": "stderr",
     "output_type": "stream",
     "text": [
      "INFO:bempp:Created grid with id 4962c55d-69fa-4364-bee4-08ad0b020c6a. Elements: 194224. Edges: 291336. Vertices: 97110\n"
     ]
    },
    {
     "name": "stdout",
     "output_type": "stream",
     "text": [
      "FEM dofs: 454329\n",
      "BEM dofs: 97110\n"
     ]
    },
    {
     "name": "stderr",
     "output_type": "stream",
     "text": [
      "INFO:bempp:OpenCL CPU Device set to: pthread-AMD Ryzen Threadripper PRO 3975WX 32-Cores\n",
      "WARNING:py.warnings:/usr/local/lib/python3.10/dist-packages/pyopencl/cache.py:495: CompilerWarning: Non-empty compiler output encountered. Set the environment variable PYOPENCL_COMPILER_OUTPUT=1 to see more.\n",
      "  _create_built_program_from_source_cached(\n",
      "\n",
      "WARNING:py.warnings:/usr/local/lib/python3.10/dist-packages/pyopencl/cache.py:499: CompilerWarning: Non-empty compiler output encountered. Set the environment variable PYOPENCL_COMPILER_OUTPUT=1 to see more.\n",
      "  prg.build(options_bytes, devices)\n",
      "\n",
      "WARNING:py.warnings:/usr/local/lib/python3.10/dist-packages/pyopencl/cache.py:495: CompilerWarning: Non-empty compiler output encountered. Set the environment variable PYOPENCL_COMPILER_OUTPUT=1 to see more.\n",
      "  _create_built_program_from_source_cached(\n",
      "\n",
      "WARNING:py.warnings:/usr/local/lib/python3.10/dist-packages/pyopencl/cache.py:499: CompilerWarning: Non-empty compiler output encountered. Set the environment variable PYOPENCL_COMPILER_OUTPUT=1 to see more.\n",
      "  prg.build(options_bytes, devices)\n",
      "\n",
      "WARNING:py.warnings:/usr/local/lib/python3.10/dist-packages/scipy/sparse/linalg/_dsolve/linsolve.py:394: SparseEfficiencyWarning: splu converted its input to CSC format\n",
      "  warn('splu converted its input to CSC format', SparseEfficiencyWarning)\n",
      "\n",
      "66 warnings generated.\n",
      "WARNING:py.warnings:/usr/local/lib/python3.10/dist-packages/pyopencl/cache.py:417: CompilerWarning: Non-empty compiler output encountered. Set the environment variable PYOPENCL_COMPILER_OUTPUT=1 to see more.\n",
      "  prg.build(options_bytes, [devices[i] for i in to_be_built_indices])\n",
      "\n",
      "66 warnings generated.\n",
      "INFO:bempp:gmres finished in 137 iterations and took 1.62E+03 sec.\n"
     ]
    },
    {
     "name": "stdout",
     "output_type": "stream",
     "text": [
      "Energia de Solvatacion : -1284.877 [kCal/mol]\n",
      "Setup time:  2519.5772\n",
      "Solve time:  1617.7502\n"
     ]
    },
    {
     "name": "stderr",
     "output_type": "stream",
     "text": [
      "INFO:bempp:Created grid with id 24d80a68-2370-4ae8-96dc-8fe12dc6ba9c. Elements: 194352. Edges: 291528. Vertices: 97178\n"
     ]
    },
    {
     "name": "stdout",
     "output_type": "stream",
     "text": [
      "FEM dofs: 457494\n",
      "BEM dofs: 97178\n"
     ]
    },
    {
     "name": "stderr",
     "output_type": "stream",
     "text": [
      "INFO:bempp:gmres finished in 142 iterations and took 1.67E+03 sec.\n"
     ]
    },
    {
     "name": "stdout",
     "output_type": "stream",
     "text": [
      "Energia de Solvatacion : -1227.626 [kCal/mol]\n",
      "Setup time:  2627.4706\n",
      "Solve time:  1669.5242\n"
     ]
    },
    {
     "name": "stderr",
     "output_type": "stream",
     "text": [
      "INFO:bempp:Created grid with id 23c176fd-99c8-4a0a-9f9f-9e6474a90eab. Elements: 192592. Edges: 288888. Vertices: 96294\n"
     ]
    },
    {
     "name": "stdout",
     "output_type": "stream",
     "text": [
      "FEM dofs: 451865\n",
      "BEM dofs: 96294\n"
     ]
    },
    {
     "name": "stderr",
     "output_type": "stream",
     "text": [
      "INFO:bempp:gmres finished in 133 iterations and took 1.53E+03 sec.\n"
     ]
    },
    {
     "name": "stdout",
     "output_type": "stream",
     "text": [
      "Energia de Solvatacion : -1269.043 [kCal/mol]\n",
      "Setup time:  2575.1896\n",
      "Solve time:  1529.1578\n"
     ]
    },
    {
     "name": "stderr",
     "output_type": "stream",
     "text": [
      "INFO:bempp:Created grid with id e0f87c80-1bfe-42db-b6b0-a2e622db44ad. Elements: 195204. Edges: 292806. Vertices: 97598\n"
     ]
    },
    {
     "name": "stdout",
     "output_type": "stream",
     "text": [
      "FEM dofs: 459913\n",
      "BEM dofs: 97598\n"
     ]
    },
    {
     "name": "stderr",
     "output_type": "stream",
     "text": [
      "66 warnings generated.\n",
      "66 warnings generated.\n",
      "INFO:bempp:gmres finished in 141 iterations and took 1.64E+03 sec.\n"
     ]
    },
    {
     "name": "stdout",
     "output_type": "stream",
     "text": [
      "Energia de Solvatacion : -1305.617 [kCal/mol]\n",
      "Setup time:  2542.2221\n",
      "Solve time:  1637.4277\n"
     ]
    },
    {
     "name": "stderr",
     "output_type": "stream",
     "text": [
      "INFO:bempp:Created grid with id 59efc53e-77b5-4dd7-b232-234de195b1d4. Elements: 186008. Edges: 279012. Vertices: 93006\n"
     ]
    },
    {
     "name": "stdout",
     "output_type": "stream",
     "text": [
      "FEM dofs: 434444\n",
      "BEM dofs: 93006\n"
     ]
    },
    {
     "name": "stderr",
     "output_type": "stream",
     "text": [
      "66 warnings generated.\n",
      "66 warnings generated.\n",
      "66 warnings generated.\n",
      "INFO:bempp:gmres finished in 141 iterations and took 1.52E+03 sec.\n"
     ]
    },
    {
     "name": "stdout",
     "output_type": "stream",
     "text": [
      "Energia de Solvatacion : -1204.594 [kCal/mol]\n",
      "Setup time:  2348.2652\n",
      "Solve time:  1523.1234\n"
     ]
    }
   ],
   "source": [
    "import dolfinx\n",
    "import dolfinx.io\n",
    "import dolfinx.geometry\n",
    "from petsc4py import PETSc\n",
    "import ufl\n",
    "from scipy.sparse import csr_matrix\n",
    "\n",
    "import bempp.api\n",
    "from bempp.api.external import fenicsx\n",
    "import numpy as np\n",
    "import pylab as plt\n",
    "import time\n",
    "\n",
    "from scipy.sparse.linalg import gmres\n",
    "from scipy.sparse.linalg import LinearOperator\n",
    "from bempp.api.assembly.discrete_boundary_operator import InverseSparseDiscreteBoundaryOperator\n",
    "from bempp.api.assembly.blocked_operator import BlockedDiscreteOperator\n",
    "\n",
    "from bempp.api.operators.boundary import sparse, laplace, modified_helmholtz\n",
    "from bempp.api.operators.potential import laplace as lp\n",
    "\n",
    "bempp.api.set_logging_level(level='info')\n",
    " \n",
    "# Solver data #\n",
    "tol = 1e-04         # Tolerance\n",
    "fmm = 1             # Use FMM\n",
    "\n",
    "# Problem data #\n",
    "from readpqr_all import readpqr_all\n",
    "w = 0.10265                                            # kappa\n",
    "es = 80.                                               # External permitivity (solvant)\n",
    "em = 1.                                                # Internal permitivity (molecule)\n",
    "\n",
    "ec = 1.602176e-19 #[C]\n",
    "kb = 1.380648e-23 #[J/K]\n",
    "T  = 298 #[K]\n",
    "S1 = 1 #(ec/(kb*T))  #38.681 [C/J]\n",
    "\n",
    "# Result collecting lists #\n",
    "solv_error = []\n",
    "mesh_size = []\n",
    "iter_num = []\n",
    "time_solve = []\n",
    "time_set = []\n",
    "\n",
    "# Iteratotion for mesh #\n",
    "grid = ['1b27', '1b2s', '1b2u', '1b3s', '2za4', '1x1u', '1x1w', '1x1x', '1x1y']\n",
    "\n",
    "it_count = 0\n",
    "def count_iterations(x):\n",
    "    global it_count\n",
    "    it_count += 1\n",
    "\n",
    "for m in grid:\n",
    "    ######################### Mesh and spaces ##################################\n",
    "    [PC, Q, R] = readpqr_all('./data-set2/'+m+'_barnase_n.pqr')         # Charges, Points of charges and Radiuses\n",
    "    mesh_file = \"./data-set2/\"+m+\"_barnase_n-converted.xdmf\"\n",
    "    with dolfinx.io.XDMFFile(MPI.COMM_WORLD, mesh_file, \"r\") as xdmf:\n",
    "        mesh = xdmf.read_mesh(name=\"Grid\")\n",
    "        it_count = 0\n",
    "        E_Solv, hmax, iter_num, set_time, solv_time = poisson_boltzman_jn_const(mesh)\n",
    "        time_set.append(set_time)\n",
    "        print(\"Setup time: {:10.4f}\".format(set_time)) \n",
    "        time_solve.append(solv_time)   \n",
    "        print(\"Solve time: {:10.4f}\".format(solv_time)) \n",
    "        bempp.api.log(\n",
    "            \"gmres finished in %i iterations and took %.2E sec.\" % (it_count, solv_time))\n",
    "        # print(\"Number of iterations: {0}\".format(it_count))\n",
    "        iter_num.append(it_count)\n",
    "        mesh_size.append(hmax)   \n",
    "        \n",
    "        #### Just saving the solution\n",
    "        solv_error.append(E_Solv)  "
   ]
  },
  {
   "cell_type": "code",
   "execution_count": null,
   "metadata": {},
   "outputs": [],
   "source": []
  },
  {
   "cell_type": "code",
   "execution_count": null,
   "metadata": {},
   "outputs": [],
   "source": []
  },
  {
   "cell_type": "code",
   "execution_count": null,
   "metadata": {},
   "outputs": [],
   "source": []
  },
  {
   "cell_type": "code",
   "execution_count": null,
   "metadata": {},
   "outputs": [],
   "source": []
  },
  {
   "cell_type": "code",
   "execution_count": null,
   "metadata": {},
   "outputs": [],
   "source": []
  }
 ],
 "metadata": {
  "kernelspec": {
   "display_name": "Python 3 (ipykernel)",
   "language": "python",
   "name": "python3"
  },
  "language_info": {
   "codemirror_mode": {
    "name": "ipython",
    "version": 3
   },
   "file_extension": ".py",
   "mimetype": "text/x-python",
   "name": "python",
   "nbconvert_exporter": "python",
   "pygments_lexer": "ipython3",
   "version": "3.10.6"
  }
 },
 "nbformat": 4,
 "nbformat_minor": 4
}
