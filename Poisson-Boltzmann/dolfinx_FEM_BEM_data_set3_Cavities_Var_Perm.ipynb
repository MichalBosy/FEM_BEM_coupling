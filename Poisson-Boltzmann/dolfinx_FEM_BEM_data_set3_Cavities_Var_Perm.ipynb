{
 "cells": [
  {
   "cell_type": "markdown",
   "metadata": {},
   "source": [
    "# FEM-BEM coupling of Poisson-Boltzmann "
   ]
  },
  {
   "cell_type": "code",
   "execution_count": 1,
   "metadata": {},
   "outputs": [],
   "source": [
    "import numpy as np\n",
    "from mpi4py import MPI\n",
    "from dolfinx.fem import FunctionSpace\n",
    "from dolfinx.mesh import create_unit_square, create_unit_cube\n",
    "from dolfinx.geometry import (compute_colliding_cells,\n",
    "                              compute_collisions_points)\n",
    "\n",
    "def get_local_coordinates(vertices, point):\n",
    "    \"\"\"Get the local coordinates of the point in the cell.\"\"\"\n",
    "    origin = vertices[0]\n",
    "    axes = [v - origin for v in vertices[1:]]\n",
    "    tdim = 3\n",
    "    if len(axes) == 2:\n",
    "        axes.append(np.cross(axes[0], axes[1]))\n",
    "        tdim = 2\n",
    "\n",
    "    assert len(axes) == 3\n",
    "\n",
    "\n",
    "    return np.linalg.solve(np.array(axes).T, point - origin)[:tdim]\n",
    "\n",
    "\n",
    "def assemble_point_sources(space, points, weights):\n",
    "    vector = np.zeros(space.dofmap.index_map.size_global)\n",
    "\n",
    "    mesh = space.mesh\n",
    "    for point, weight in zip(points, weights):\n",
    "        # Get cell\n",
    "        tree = dolfinx.geometry.bb_tree(mesh, mesh.geometry.dim)\n",
    "        cell_candidates = compute_collisions_points(tree, point)\n",
    "        # This gets the first cell. Would it be better to put a fraction of the delta function into each cell instead?\n",
    "        cell = compute_colliding_cells(mesh, cell_candidates, point)[0]\n",
    "\n",
    "        # Get local coordinates\n",
    "        # Note: this currently only works for affine triangles and tetrahedra\n",
    "        v = [mesh.geometry.x[i] for i in mesh.geometry.dofmap[cell]]\n",
    "        local_coordinates = get_local_coordinates(v, point)\n",
    "\n",
    "        # Note: this currently only works for scalar-valued elements that use an identity push forward map\n",
    "        values = space.element.basix_element.tabulate(0, [local_coordinates])[0, 0, :, 0]\n",
    "        dofs = space.dofmap.cell_dofs(cell)\n",
    "\n",
    "        for d, v in zip(dofs, values):\n",
    "            vector[d] += v * weight\n",
    "\n",
    "    return vector\n",
    "\n",
    "\n",
    "def test_point_sources_triangle():\n",
    "    points = np.array([(1/4, 1/6, 0), (1/10, 6/10, 0)])\n",
    "\n",
    "    mesh = create_unit_square(MPI.COMM_WORLD, 2, 2)\n",
    "    space = FunctionSpace(mesh, (\"Lagrange\", 1))\n",
    "\n",
    "    vector = assemble_point_sources(space, points, [1, 1])\n",
    "\n",
    "    a = [i for i in vector]\n",
    "    a.sort()\n",
    "    assert np.isclose(a[-1], 4/5)\n",
    "    assert np.isclose(a[-2], 1/2)\n",
    "    assert np.isclose(a[-3], 1/3)\n",
    "    assert np.isclose(a[-4], 1/5)\n",
    "    assert np.isclose(a[-5], 1/6)\n",
    "    assert np.isclose(a[-6], 0)\n",
    "    assert np.isclose(a[0], 0)\n",
    "\n",
    "    vector = assemble_point_sources(space, points, [2, 1])\n",
    "\n",
    "    a = [i for i in vector]\n",
    "    a.sort()\n",
    "    assert np.isclose(a[-1], 1)\n",
    "    assert np.isclose(a[-2], 4/5)\n",
    "    assert np.isclose(a[-3], 2/3)\n",
    "    assert np.isclose(a[-4], 1/3)\n",
    "    assert np.isclose(a[-5], 1/5)\n",
    "    assert np.isclose(a[-6], 0)\n",
    "    assert np.isclose(a[0], 0)\n",
    "\n",
    "\n",
    "def test_point_sources_tetrahedron():\n",
    "    points = np.array([(1/4, 1/6, 0), (1/2, 1/2, 15/16)])\n",
    "\n",
    "    mesh = create_unit_cube(MPI.COMM_WORLD, 2, 2, 2)\n",
    "    space = FunctionSpace(mesh, (\"Lagrange\", 1))\n",
    "\n",
    "    vector = assemble_point_sources(space, points, [1, 1])\n",
    "\n",
    "    a = [i for i in vector]\n",
    "    a.sort()\n",
    "    assert np.isclose(a[-1], 7/8)\n",
    "    assert np.isclose(a[-2], 1/2)\n",
    "    assert np.isclose(a[-3], 1/3)\n",
    "    assert np.isclose(a[-4], 1/6)\n",
    "    assert np.isclose(a[-5], 1/8)\n",
    "    assert np.isclose(a[-6], 0)\n",
    "    assert np.isclose(a[0], 0)\n",
    "\n",
    "\n",
    "    mesh = create_unit_cube(MPI.COMM_WORLD, 2, 2, 2)\n",
    "    space = FunctionSpace(mesh, (\"Lagrange\", 1))\n",
    "\n",
    "    vector = assemble_point_sources(space, points, [2, 1])\n",
    "\n",
    "    a = [i for i in vector]\n",
    "    a.sort()\n",
    "    assert np.isclose(a[-1], 1)\n",
    "    assert np.isclose(a[-2], 7/8)\n",
    "    assert np.isclose(a[-3], 2/3)\n",
    "    assert np.isclose(a[-4], 1/3)\n",
    "    assert np.isclose(a[-5], 1/8)\n",
    "    assert np.isclose(a[-6], 0)\n",
    "    assert np.isclose(a[0], 0)"
   ]
  },
  {
   "cell_type": "markdown",
   "metadata": {},
   "source": [
    "## Solving problems for each of the mesh"
   ]
  },
  {
   "cell_type": "code",
   "execution_count": 2,
   "metadata": {},
   "outputs": [],
   "source": [
    "from mpi4py import MPI \n",
    "from dolfinx.mesh import create_unit_cube\n",
    "from scipy.sparse import diags\n",
    "\n",
    "def poisson_boltzman_jn_var(mesh):\n",
    "    \n",
    "    nor = ufl.FacetNormal(mesh) \n",
    "    \n",
    "    # Spaces for FEM and BEM #\n",
    "    fenics_space = FunctionSpace(mesh, (\"Lagrange\", 1))\n",
    "    trace_space, trace_matrix = \\\n",
    "    fenicsx.fenics_to_bempp_trace_data(fenics_space)\n",
    "    bempp_space = bempp.api.function_space(trace_space.grid, \"P\", 1)\n",
    "\n",
    "    # Mesh size information #\n",
    "    fem_size = fenics_space.dofmap.index_map.size_global\n",
    "    print(\"FEM dofs: {0}\".format(fem_size))\n",
    "    print(\"BEM dofs: {0}\".format(bempp_space.global_dof_count))\n",
    "    hmax = trace_space.grid.maximum_element_diameter\n",
    "    \n",
    "    epsilon_fem = dolfinx.fem.Function(fenics_space)\n",
    "    epsilon_fem.interpolate(fun_exp)\n",
    "    \n",
    "    # Starting set-up time\n",
    "    start = time.time()     \n",
    "    \n",
    "    # FEM discrete variables\n",
    "    u = ufl.TrialFunction(fenics_space)\n",
    "    v = ufl.TestFunction(fenics_space)\n",
    "        \n",
    "    # BEM operators\n",
    "    id_op = bempp.api.operators.boundary.sparse.identity(trace_space, bempp_space, bempp_space)\n",
    "    mass = bempp.api.operators.boundary.sparse.identity(bempp_space, bempp_space, trace_space)\n",
    "    \n",
    "    if fmm:\n",
    "        dlp = bempp.api.operators.boundary.modified_helmholtz.double_layer(trace_space, bempp_space, bempp_space, w, assembler=\"fmm\")\n",
    "        slp = bempp.api.operators.boundary.modified_helmholtz.single_layer(bempp_space, bempp_space, bempp_space, w, assembler=\"fmm\")\n",
    "        dlp_0 = bempp.api.operators.boundary.laplace.double_layer(trace_space, bempp_space, bempp_space, assembler=\"fmm\")\n",
    "        slp_0 = bempp.api.operators.boundary.laplace.single_layer(bempp_space, bempp_space, bempp_space, assembler=\"fmm\")\n",
    "    else:\n",
    "        dlp = bempp.api.operators.boundary.modified_helmholtz.double_layer(trace_space, bempp_space, bempp_space, w)\n",
    "        slp = bempp.api.operators.boundary.modified_helmholtz.single_layer(bempp_space, bempp_space, bempp_space, w)\n",
    "        dlp_0 = bempp.api.operators.boundary.laplace.double_layer(trace_space, bempp_space, bempp_space)\n",
    "        slp_0 = bempp.api.operators.boundary.laplace.single_layer(bempp_space, bempp_space, bempp_space)\n",
    "    \n",
    "    ######################### Matrix and RHS ##################################\n",
    "    \n",
    "    # RHS for FEM\n",
    "    rhs_fem = assemble_point_sources(fenics_space, PC, Q)\n",
    "        \n",
    "    # RHS for BEM\n",
    "    rhs_bem = np.zeros(bempp_space.global_dof_count)\n",
    "    # Global RHS\n",
    "    rhs = np.concatenate([rhs_fem, rhs_bem])\n",
    "    \n",
    "    blocks = [[None,None],[None,None]]\n",
    "    blocks_vac = [[None,None],[None,None]]\n",
    "        \n",
    "    # FEM matrices\n",
    "    trace_op = LinearOperator(trace_matrix.shape, lambda x:trace_matrix*x)\n",
    "    \n",
    "    A = fenicsx.FenicsOperator(epsilon_fem*ufl.inner(ufl.nabla_grad(u),\n",
    "                                     ufl.nabla_grad(v))  * ufl.dx)  \n",
    "    A_vac = fenicsx.FenicsOperator(em*ufl.inner(ufl.nabla_grad(u),\n",
    "                                     ufl.nabla_grad(v))  * ufl.dx)  \n",
    "     \n",
    "    # Blocked matrix\n",
    "    blocks[0][0] = A.weak_form()\n",
    "    blocks[0][1] = -em*trace_matrix.T @ ( mass.weak_form().to_sparse())\n",
    "    blocks[1][0] = (.5 * id_op - dlp).weak_form() * trace_op\n",
    "    blocks[1][1] = slp.weak_form()*(em/es)\n",
    "\n",
    "    blocked = BlockedDiscreteOperator(np.array(blocks))\n",
    "    \n",
    "    # Vaccum case\n",
    "    blocks_vac[0][0] = A_vac.weak_form()\n",
    "    blocks_vac[0][1] = blocks[0][1]\n",
    "    blocks_vac[1][0] = (.5 * id_op - dlp_0).weak_form() * trace_op\n",
    "    blocks_vac[1][1] = slp_0.weak_form()\n",
    "\n",
    "    blocked_vacuum = BlockedDiscreteOperator(np.array(blocks_vac))\n",
    "    \n",
    "    \n",
    "    ######################### Preconditioner and solvers ##################################\n",
    "    \n",
    "    # Diagonal Scaling #\n",
    "    P1 = diags(1./blocked[0,0].to_sparse().diagonal())\n",
    "    PV = diags(1./blocked_vacuum[0,0].to_sparse().diagonal())\n",
    "\n",
    "    # Mass matrix preconditioner #\n",
    "    P2 = InverseSparseDiscreteBoundaryOperator(\n",
    "        bempp.api.operators.boundary.sparse.identity(\n",
    "            bempp_space, bempp_space, bempp_space).weak_form())\n",
    "\n",
    "    # Create a block diagonal preconditioner object using the Scipy LinearOperator class\n",
    "    def apply_prec(x):\n",
    "        \"\"\"Apply the block diagonal preconditioner\"\"\"\n",
    "        m1 = P1.shape[0]\n",
    "        m2 = P2.shape[0]\n",
    "        n1 = P1.shape[1]\n",
    "        n2 = P2.shape[1]\n",
    "\n",
    "        res1 = P1.dot(x[:n1]) \n",
    "        res2 = P2.dot(x[n1:])\n",
    "        return np.concatenate([res1, res2])\n",
    "\n",
    "    p_shape = (P1.shape[0] + P2.shape[0], P1.shape[1] + P2.shape[1])\n",
    "    P = LinearOperator(p_shape, apply_prec, dtype=np.dtype('float64'))\n",
    "\n",
    "    def vac_apply_prec(x):\n",
    "        \"\"\"Apply the block diagonal preconditioner\"\"\"\n",
    "        m1 = PV.shape[0]\n",
    "        m2 = P2.shape[0]\n",
    "        n1 = PV.shape[1]\n",
    "        n2 = P2.shape[1]\n",
    "\n",
    "        res1 = PV.dot(x[:n1]) \n",
    "        res2 = P2.dot(x[n1:])\n",
    "        return np.concatenate([res1, res2])\n",
    "\n",
    "    p_shape = (PV.shape[0] + P2.shape[0], PV.shape[1] + P2.shape[1])\n",
    "    P_vac = LinearOperator(p_shape, vac_apply_prec, dtype=np.dtype('float64'))\n",
    "     \n",
    "    end = time.time()\n",
    "    set_time = (end - start) \n",
    "\n",
    "    from scipy.sparse.linalg import gmres\n",
    "    start = time.time()     \n",
    "    soln, info = gmres(blocked, rhs, M=P, callback=count_iterations, tol=tol, restrt=500)\n",
    "    sol_iter = it_count\n",
    "    print(\"Solvant number of iterations: {0}\".format(sol_iter))\n",
    "    soln_vacuum, info = gmres(blocked_vacuum, rhs, M=P_vac, callback=count_iterations, tol=tol, restrt=500)\n",
    "    print(\"Vacuum number of iterations (vacuum case): {0}\".format(it_count-sol_iter))\n",
    "    end = time.time()\n",
    "    solv_time = (end - start) \n",
    "    \n",
    "    soln_fem = soln[:fem_size]\n",
    "    soln_bem = soln[fem_size:]\n",
    "\n",
    "    u = dolfinx.fem.Function(fenics_space)\n",
    "    u.vector.setValues(list(range(0,fem_size)), np.ascontiguousarray(soln_fem))\n",
    "    dirichlet_data = trace_matrix * soln_fem\n",
    "    dirichlet_fun = bempp.api.GridFunction(trace_space, coefficients=dirichlet_data)\n",
    "    neumann_fun = bempp.api.GridFunction(bempp_space, coefficients=soln_bem)\n",
    "    \n",
    "    vac_soln_fem = soln_vacuum[:fem_size]\n",
    "    vac_soln_bem = soln_vacuum[fem_size:]\n",
    "\n",
    "    u_vac = dolfinx.fem.Function(fenics_space)\n",
    "    u_vac.vector.setValues(list(range(0,fem_size)), np.ascontiguousarray(vac_soln_fem))\n",
    "    vac_dirichlet_data = trace_matrix * vac_soln_fem\n",
    "    vac_dirichlet_fun = bempp.api.GridFunction(trace_space, coefficients=vac_dirichlet_data)\n",
    "    vac_neumann_fun = bempp.api.GridFunction(bempp_space, coefficients=vac_soln_bem)\n",
    "    \n",
    "    ######################### Solvation energy ##################################\n",
    "    \n",
    "    bb_tree = dolfinx.geometry.bb_tree(mesh, mesh.topology.dim)\n",
    "    cells = []\n",
    "    points_on_proc = []\n",
    "    # Find cells whose bounding-box collide with the the points\n",
    "    cell_candidates = dolfinx.geometry.compute_collisions_points(bb_tree, PC)\n",
    "    # Choose one of the cells that contains the point\n",
    "    colliding_cells = dolfinx.geometry.compute_colliding_cells(mesh, cell_candidates, PC)\n",
    "    for i, point in enumerate(PC):\n",
    "        if len(colliding_cells.links(i))>0:\n",
    "            points_on_proc.append(point)\n",
    "            cells.append(colliding_cells.links(i)[0])\n",
    "    u_values = u.eval(points_on_proc, cells)\n",
    "    vac_u_values = u_vac.eval(points_on_proc, cells)\n",
    "    \n",
    "    # print(u_values)\n",
    "    \n",
    "    q_uF = 0\n",
    "    q_uF_vac = 0\n",
    "    for i in range(len(PC)):\n",
    "        Sum =  (u_values[i].real)*Q[i] \n",
    "        q_uF = q_uF + Sum\n",
    "        Sum_vac =  (vac_u_values[i].real)*Q[i] \n",
    "        q_uF_vac = q_uF_vac + Sum_vac\n",
    "\n",
    "    E_Solv = 0.5*4.*np.pi*332.064*q_uF\n",
    "    # print('Energia de Solvatacion (solvant case): {:7.3f} [kCal/mol]'.format(E_Solv[0]))\n",
    "    E_Solv_vac = 0.5*4.*np.pi*332.064*q_uF_vac\n",
    "    # print('Energia de Solvatacion (vacuum case): {:7.3f} [kCal/mol]'.format(E_Solv_vac[0]))\n",
    "    \n",
    "    return E_Solv-E_Solv_vac, hmax, it_count, set_time, solv_time"
   ]
  },
  {
   "cell_type": "code",
   "execution_count": 3,
   "metadata": {
    "tags": []
   },
   "outputs": [
    {
     "name": "stdout",
     "output_type": "stream",
     "text": [
      "1a1t_rna\n"
     ]
    },
    {
     "name": "stderr",
     "output_type": "stream",
     "text": [
      "INFO:bempp:Created grid with id 98f9ef3a-d9b7-4f63-9890-2e5565132d1c. Elements: 118352. Edges: 177528. Vertices: 59178\n"
     ]
    },
    {
     "name": "stdout",
     "output_type": "stream",
     "text": [
      "FEM dofs: 197624\n",
      "BEM dofs: 59178\n"
     ]
    },
    {
     "name": "stderr",
     "output_type": "stream",
     "text": [
      "INFO:bempp:OpenCL CPU Device set to: pthread-AMD Ryzen Threadripper PRO 3975WX 32-Cores\n",
      "66 warnings generated.\n",
      "WARNING:py.warnings:/usr/local/lib/python3.10/dist-packages/pyopencl/cache.py:417: CompilerWarning: Non-empty compiler output encountered. Set the environment variable PYOPENCL_COMPILER_OUTPUT=1 to see more.\n",
      "  prg.build(options_bytes, [devices[i] for i in to_be_built_indices])\n",
      "\n",
      "66 warnings generated.\n",
      "WARNING:py.warnings:/usr/local/lib/python3.10/dist-packages/pyopencl/cache.py:417: CompilerWarning: Non-empty compiler output encountered. Set the environment variable PYOPENCL_COMPILER_OUTPUT=1 to see more.\n",
      "  prg.build(options_bytes, [devices[i] for i in to_be_built_indices])\n",
      "\n",
      "66 warnings generated.\n",
      "66 warnings generated.\n",
      "66 warnings generated.\n",
      "66 warnings generated.\n",
      "WARNING:py.warnings:/usr/local/lib/python3.10/dist-packages/scipy/sparse/linalg/_dsolve/linsolve.py:394: SparseEfficiencyWarning: splu converted its input to CSC format\n",
      "  warn('splu converted its input to CSC format', SparseEfficiencyWarning)\n",
      "\n"
     ]
    },
    {
     "name": "stdout",
     "output_type": "stream",
     "text": [
      "Solvant number of iterations: 159\n",
      "Vacuum number of iterations (vacuum case): 206\n"
     ]
    },
    {
     "name": "stderr",
     "output_type": "stream",
     "text": [
      "INFO:bempp:gmres finished in 365 iterations and took 1.52E+03 sec.\n"
     ]
    },
    {
     "name": "stdout",
     "output_type": "stream",
     "text": [
      "Setup time:   417.5067\n",
      "Solve time:  1520.6755\n",
      "Energia de Solvatacion : -5405.123 [kCal/mol]\n",
      "1a4t_protein\n"
     ]
    },
    {
     "name": "stderr",
     "output_type": "stream",
     "text": [
      "INFO:bempp:Created grid with id f9e86d88-a18d-47cc-8c76-8cd7b955aca9. Elements: 70872. Edges: 106308. Vertices: 35440\n"
     ]
    },
    {
     "name": "stdout",
     "output_type": "stream",
     "text": [
      "FEM dofs: 114735\n",
      "BEM dofs: 35440\n"
     ]
    },
    {
     "name": "stderr",
     "output_type": "stream",
     "text": [
      "WARNING:py.warnings:/usr/local/lib/python3.10/dist-packages/pyopencl/cache.py:495: CompilerWarning: Non-empty compiler output encountered. Set the environment variable PYOPENCL_COMPILER_OUTPUT=1 to see more.\n",
      "  _create_built_program_from_source_cached(\n",
      "\n",
      "WARNING:py.warnings:/usr/local/lib/python3.10/dist-packages/pyopencl/cache.py:499: CompilerWarning: Non-empty compiler output encountered. Set the environment variable PYOPENCL_COMPILER_OUTPUT=1 to see more.\n",
      "  prg.build(options_bytes, devices)\n",
      "\n"
     ]
    },
    {
     "name": "stdout",
     "output_type": "stream",
     "text": [
      "Solvant number of iterations: 154\n",
      "Vacuum number of iterations (vacuum case): 216\n"
     ]
    },
    {
     "name": "stderr",
     "output_type": "stream",
     "text": [
      "INFO:bempp:gmres finished in 370 iterations and took 1.05E+03 sec.\n"
     ]
    },
    {
     "name": "stdout",
     "output_type": "stream",
     "text": [
      "Setup time:   134.1036\n",
      "Solve time:  1054.4130\n",
      "Energia de Solvatacion : -1304.926 [kCal/mol]\n",
      "1g70_complex\n"
     ]
    },
    {
     "name": "stderr",
     "output_type": "stream",
     "text": [
      "INFO:bempp:Created grid with id ac9e0db4-4af4-4baa-a641-efb2613084cc. Elements: 178696. Edges: 268044. Vertices: 89350\n"
     ]
    },
    {
     "name": "stdout",
     "output_type": "stream",
     "text": [
      "FEM dofs: 319457\n",
      "BEM dofs: 89350\n"
     ]
    },
    {
     "name": "stderr",
     "output_type": "stream",
     "text": [
      "66 warnings generated.\n",
      "66 warnings generated.\n"
     ]
    },
    {
     "name": "stdout",
     "output_type": "stream",
     "text": [
      "Solvant number of iterations: 582\n",
      "Vacuum number of iterations (vacuum case): 238\n"
     ]
    },
    {
     "name": "stderr",
     "output_type": "stream",
     "text": [
      "INFO:bempp:gmres finished in 820 iterations and took 6.34E+03 sec.\n"
     ]
    },
    {
     "name": "stdout",
     "output_type": "stream",
     "text": [
      "Setup time:  1267.6622\n",
      "Solve time:  6341.8618\n",
      "Energia de Solvatacion : -7928.863 [kCal/mol]\n",
      "1g70_rna\n"
     ]
    },
    {
     "name": "stderr",
     "output_type": "stream",
     "text": [
      "INFO:bempp:Created grid with id 9c5e6642-203b-4f0e-8f15-9677991122f5. Elements: 177072. Edges: 265608. Vertices: 88538\n"
     ]
    },
    {
     "name": "stdout",
     "output_type": "stream",
     "text": [
      "FEM dofs: 303167\n",
      "BEM dofs: 88538\n",
      "Solvant number of iterations: 159\n",
      "Vacuum number of iterations (vacuum case): 244\n"
     ]
    },
    {
     "name": "stderr",
     "output_type": "stream",
     "text": [
      "INFO:bempp:gmres finished in 403 iterations and took 2.31E+03 sec.\n"
     ]
    },
    {
     "name": "stdout",
     "output_type": "stream",
     "text": [
      "Setup time:   926.3389\n",
      "Solve time:  2314.1411\n",
      "Energia de Solvatacion : -11156.277 [kCal/mol]\n",
      "1hji_complex\n"
     ]
    },
    {
     "name": "stderr",
     "output_type": "stream",
     "text": [
      "INFO:bempp:Created grid with id d379e3aa-5d70-45da-8093-0e6b5dfe4da3. Elements: 148876. Edges: 223314. Vertices: 74440\n"
     ]
    },
    {
     "name": "stdout",
     "output_type": "stream",
     "text": [
      "FEM dofs: 253733\n",
      "BEM dofs: 74440\n",
      "Solvant number of iterations: 154\n",
      "Vacuum number of iterations (vacuum case): 239\n"
     ]
    },
    {
     "name": "stderr",
     "output_type": "stream",
     "text": [
      "INFO:bempp:gmres finished in 393 iterations and took 2.19E+03 sec.\n"
     ]
    },
    {
     "name": "stdout",
     "output_type": "stream",
     "text": [
      "Setup time:   739.3272\n",
      "Solve time:  2193.7628\n",
      "Energia de Solvatacion : -2040.251 [kCal/mol]\n",
      "1nyb_complex\n"
     ]
    },
    {
     "name": "stderr",
     "output_type": "stream",
     "text": [
      "INFO:bempp:Created grid with id 6d4677f8-1e0e-4503-92c7-ca24c0c0448b. Elements: 182656. Edges: 273984. Vertices: 91328\n"
     ]
    },
    {
     "name": "stdout",
     "output_type": "stream",
     "text": [
      "FEM dofs: 312257\n",
      "BEM dofs: 91328\n"
     ]
    },
    {
     "name": "stderr",
     "output_type": "stream",
     "text": [
      "66 warnings generated.\n",
      "66 warnings generated.\n"
     ]
    },
    {
     "name": "stdout",
     "output_type": "stream",
     "text": [
      "Solvant number of iterations: 148\n",
      "Vacuum number of iterations (vacuum case): 272\n"
     ]
    },
    {
     "name": "stderr",
     "output_type": "stream",
     "text": [
      "INFO:bempp:gmres finished in 420 iterations and took 2.51E+03 sec.\n"
     ]
    },
    {
     "name": "stdout",
     "output_type": "stream",
     "text": [
      "Setup time:  1109.5468\n",
      "Solve time:  2512.2932\n",
      "Energia de Solvatacion : -4826.682 [kCal/mol]\n",
      "1ull_complex\n"
     ]
    },
    {
     "name": "stderr",
     "output_type": "stream",
     "text": [
      "INFO:bempp:Created grid with id 7ab86c9e-004a-4c34-9554-6d563f8c612f. Elements: 196000. Edges: 294000. Vertices: 98002\n"
     ]
    },
    {
     "name": "stdout",
     "output_type": "stream",
     "text": [
      "FEM dofs: 345758\n",
      "BEM dofs: 98002\n",
      "Solvant number of iterations: 533\n",
      "Vacuum number of iterations (vacuum case): 258\n"
     ]
    },
    {
     "name": "stderr",
     "output_type": "stream",
     "text": [
      "INFO:bempp:gmres finished in 791 iterations and took 6.60E+03 sec.\n"
     ]
    },
    {
     "name": "stdout",
     "output_type": "stream",
     "text": [
      "Setup time:  1562.9844\n",
      "Solve time:  6598.8184\n",
      "Energia de Solvatacion : -7323.466 [kCal/mol]\n",
      "1zbn_rna\n"
     ]
    },
    {
     "name": "stderr",
     "output_type": "stream",
     "text": [
      "INFO:bempp:Created grid with id 40846a38-d4e8-48a7-a84d-1e7545544fd5. Elements: 164140. Edges: 246210. Vertices: 82072\n"
     ]
    },
    {
     "name": "stdout",
     "output_type": "stream",
     "text": [
      "FEM dofs: 277193\n",
      "BEM dofs: 82072\n",
      "Solvant number of iterations: 152\n",
      "Vacuum number of iterations (vacuum case): 220\n"
     ]
    },
    {
     "name": "stderr",
     "output_type": "stream",
     "text": [
      "INFO:bempp:gmres finished in 372 iterations and took 2.01E+03 sec.\n"
     ]
    },
    {
     "name": "stdout",
     "output_type": "stream",
     "text": [
      "Setup time:   751.3916\n",
      "Solve time:  2008.7025\n",
      "Energia de Solvatacion : -9144.831 [kCal/mol]\n"
     ]
    }
   ],
   "source": [
    "import dolfinx\n",
    "import dolfinx.io\n",
    "import dolfinx.geometry\n",
    "from petsc4py import PETSc\n",
    "import ufl\n",
    "from scipy.sparse import csr_matrix\n",
    "\n",
    "import bempp.api\n",
    "\n",
    "bempp.api.set_logging_level(level='info')\n",
    "\n",
    "from bempp.api.external import fenicsx\n",
    "# from dolfin_utils.meshconvert import meshconvert\n",
    "import numpy as np\n",
    "# from bempp.api.external import fenics\n",
    "# from scipy.sparse.linalg import cg, minres\n",
    "import pylab as plt\n",
    "import time\n",
    "\n",
    "from scipy.sparse.linalg import gmres\n",
    "from scipy.sparse.linalg import LinearOperator\n",
    "from bempp.api.assembly.discrete_boundary_operator import InverseSparseDiscreteBoundaryOperator\n",
    "from bempp.api.assembly.blocked_operator import BlockedDiscreteOperator\n",
    "\n",
    "from bempp.api.operators.boundary import sparse, laplace, modified_helmholtz\n",
    "from bempp.api.operators.potential import laplace as lp\n",
    " \n",
    "# Solver data #\n",
    "tol = 1e-04         # Tolerance\n",
    "fmm = 1             # Use FMM\n",
    "\n",
    "# Problem data #\n",
    "from readpqr_all import readpqr_all\n",
    "\n",
    "w = 0.10265                                             # kappa\n",
    "es = 80.                                               # External permitivity (solvant)\n",
    "em = 1.                                                # Internal permitivity (molecule)\n",
    "\n",
    "ec = 1.602176e-19 #[C]\n",
    "kb = 1.380648e-23 #[J/K]\n",
    "T  = 300 #[K]\n",
    "S1 = 1 #(ec/(kb*T))  #38.681 [C/J]\n",
    "\n",
    "# Result collecting lists #\n",
    "solv_error = []\n",
    "mesh_size = []\n",
    "iter_num = []\n",
    "time_solve = []\n",
    "time_set = []\n",
    "\n",
    "# Iteratotion for mesh #\n",
    "grid_size =  ['1a1t_rna', '1a4t_protein', '1g70_complex', '1g70_rna', '1hji_complex', '1nyb_complex', '1ull_complex', '1zbn_rna']\n",
    "\n",
    "it_count = 0\n",
    "def count_iterations(x):\n",
    "    global it_count\n",
    "    it_count += 1\n",
    "    \n",
    "def epsilon(x,cavities):\n",
    "    global em,es\n",
    "    epsilon = em\n",
    "    if (np.linalg.norm(x-cavities,axis=1)<1e-8).any():\n",
    "        epsilon = es\n",
    "    return epsilon\n",
    "\n",
    "def epsilon_index(x, points):\n",
    "    return np.where(np.linalg.norm(x-points,axis=1)<1e-8)[0]\n",
    "       \n",
    "def fun_exp(x):\n",
    "    global cavities\n",
    "    return np.full(x.shape[1],[epsilon(x.transpose()[j],cavities) for j in range(x.shape[1])])   \n",
    "     \n",
    "for m in grid_size:\n",
    "    print(m)\n",
    "    ######################### Mesh and spaces ##################################\n",
    "    [PC, Q, R] = readpqr_all(\"./data-set3/\"+m+\".pqr\")         # Charges, Points of charges and Radiuses\n",
    "    gauss_points_FEM = np.hsplit(np.loadtxt(\"./data-set3/\"+m+\"_Points_FEM_in_cavity.txt\"), np.array([3, 4]))\n",
    "    indices = np.where(gauss_points_FEM[1]>10.)[0]\n",
    "    cavities = gauss_points_FEM[0][indices,:]\n",
    "    mesh_file = \"./data-set3/\"+m+\"-converted.xdmf\"\n",
    "    with dolfinx.io.XDMFFile(MPI.COMM_WORLD, mesh_file, \"r\") as xdmf:\n",
    "        mesh = xdmf.read_mesh(name=\"Grid\")\n",
    "        \n",
    "        it_count = 0\n",
    "        E_Solv, hmax, num_iter, set_time, solv_time = poisson_boltzman_jn_var(mesh)\n",
    "        time_set.append(set_time) \n",
    "        print(\"Setup time: {:10.4f}\".format(set_time))\n",
    "        time_solve.append(solv_time)  \n",
    "        print(\"Solve time: {:10.4f}\".format(solv_time))  \n",
    "        bempp.api.log(\n",
    "            \"gmres finished in %i iterations and took %.2E sec.\" % (num_iter, solv_time))\n",
    "        # print(\"Number of iterations: {0}\".format(it_count))\n",
    "        iter_num.append(num_iter)\n",
    "        mesh_size.append(hmax) \n",
    "        \n",
    "        #### Just saving the solution\n",
    "        print('Energia de Solvatacion : {:7.3f} [kCal/mol]'.format(E_Solv[0]))\n",
    "        solv_error.append(E_Solv[0])   "
   ]
  },
  {
   "cell_type": "code",
   "execution_count": null,
   "metadata": {
    "tags": []
   },
   "outputs": [],
   "source": []
  },
  {
   "cell_type": "code",
   "execution_count": null,
   "metadata": {
    "tags": []
   },
   "outputs": [],
   "source": []
  },
  {
   "cell_type": "code",
   "execution_count": null,
   "metadata": {
    "tags": []
   },
   "outputs": [],
   "source": []
  },
  {
   "cell_type": "code",
   "execution_count": null,
   "metadata": {},
   "outputs": [],
   "source": []
  },
  {
   "cell_type": "code",
   "execution_count": null,
   "metadata": {},
   "outputs": [],
   "source": []
  },
  {
   "cell_type": "code",
   "execution_count": null,
   "metadata": {},
   "outputs": [],
   "source": []
  },
  {
   "cell_type": "code",
   "execution_count": null,
   "metadata": {},
   "outputs": [],
   "source": []
  },
  {
   "cell_type": "code",
   "execution_count": null,
   "metadata": {},
   "outputs": [],
   "source": []
  },
  {
   "cell_type": "code",
   "execution_count": null,
   "metadata": {},
   "outputs": [],
   "source": []
  },
  {
   "cell_type": "code",
   "execution_count": null,
   "metadata": {},
   "outputs": [],
   "source": []
  },
  {
   "cell_type": "code",
   "execution_count": null,
   "metadata": {},
   "outputs": [],
   "source": []
  },
  {
   "cell_type": "code",
   "execution_count": null,
   "metadata": {},
   "outputs": [],
   "source": []
  }
 ],
 "metadata": {
  "kernelspec": {
   "display_name": "Python 3 (ipykernel)",
   "language": "python",
   "name": "python3"
  },
  "language_info": {
   "codemirror_mode": {
    "name": "ipython",
    "version": 3
   },
   "file_extension": ".py",
   "mimetype": "text/x-python",
   "name": "python",
   "nbconvert_exporter": "python",
   "pygments_lexer": "ipython3",
   "version": "3.10.6"
  }
 },
 "nbformat": 4,
 "nbformat_minor": 4
}
